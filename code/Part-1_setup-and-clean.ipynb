{
 "cells": [
  {
   "cell_type": "markdown",
   "id": "a7a73bfa-6f77-4c06-a275-9ab8c592df19",
   "metadata": {},
   "source": [
    "# Project 4: EV Cars\n",
    "\n",
    "## Part I - Project Intro and Data Cleaning\n",
    "\n",
    "Authors: Aichieh Lin, Bede Young, and Charles Ramey\n",
    "\n",
    "Date: 05/05/2023\n",
    "\n",
    "---"
   ]
  },
  {
   "cell_type": "markdown",
   "id": "3493678f-85b0-4693-853a-a9aed79cacda",
   "metadata": {},
   "source": [
    "## Problem Statement\n",
    "\n",
    "In a bid to improve air quality, manufacturers and policy makers are working to reduce carbon emissions from road vehicles by improving both the facilities and availablity of electric vehicles. Policy makers are aiming to meet net zero emission targets, and have requested analysis into the progress and effectiveness of increasing EV registration on air pollution levels. As part of progressing towards net zero emissions, policy makers are seeking to determine how many EV registrations will yield a 10% improvement to the air quality index. This project analyses the trends in EV registration and data collected on pollution levels, and uses a regression model to predict air quality based on EV registration numbers."
   ]
  },
  {
   "cell_type": "markdown",
   "id": "78e02f55-362c-4b7b-a6e0-46572771ab94",
   "metadata": {
    "tags": []
   },
   "source": [
    "#### Notebook Links\n",
    "\n",
    "Part II - Exploratory Data Analysis (EDA)\n",
    "- [`Part-2_eda.ipynb`](../code/Part-1_eda.ipynb)\n",
    "\n",
    "Part III - Modeling\n",
    "- [`Part-3_modeling.ipynb`](../code/Part-3_modeling.ipynb)\n",
    "\n",
    "Part IV - Conclusion, Recommendations, and Sources\n",
    "- [`Part-4_conclusion-and-recommendations.ipynb`](../code/Part-4_conclusion-and-recommendations.ipynb)"
   ]
  },
  {
   "cell_type": "markdown",
   "id": "0e1db3b3-860b-4947-ad16-04097ac5d4eb",
   "metadata": {
    "tags": []
   },
   "source": [
    "### Contents\n",
    "\n",
    "- [Background](#Background)\n",
    "- [Data Import](#Data-Import)\n",
    "- [Cleaning](#Cleaning)"
   ]
  },
  {
   "cell_type": "markdown",
   "id": "43b7a556-b48e-40dc-9a2e-2d8a1ea6dd42",
   "metadata": {},
   "source": [
    "## Background\n",
    "\n",
    "Lorem ipsum dolor sit amet, consectetur adipiscing elit, sed do eiusmod tempor incididunt ut labore et dolore magna aliqua. Ut enim ad minim veniam, quis nostrud exercitation ullamco laboris nisi ut aliquip ex ea commodo consequat. Duis aute irure dolor in reprehenderit in voluptate velit esse cillum dolore eu fugiat nulla pariatur. Excepteur sint occaecat cupidatat non proident, sunt in culpa qui officia deserunt mollit anim id est laborum."
   ]
  },
  {
   "cell_type": "markdown",
   "id": "fcc3a5b2-62c9-4972-a30f-198c8f48ad2c",
   "metadata": {},
   "source": [
    "### Library Imports"
   ]
  },
  {
   "cell_type": "code",
   "execution_count": 1,
   "id": "964855c1-528c-4270-8479-fa022f13211d",
   "metadata": {
    "tags": []
   },
   "outputs": [],
   "source": [
    "import numpy as np\n",
    "import pandas as pd\n",
    "\n",
    "import os"
   ]
  },
  {
   "cell_type": "markdown",
   "id": "9995dd3b-f56d-4c9b-acbd-84bcc09f344d",
   "metadata": {},
   "source": [
    "## Data Import"
   ]
  },
  {
   "cell_type": "markdown",
   "id": "ccbb47d8-f59f-42ed-9642-5cf6a39961ba",
   "metadata": {},
   "source": [
    "### Dataset 1: Annual Air Quality Index by County, 2000 - 2022\n",
    "Data source: United States Environmental Protection Agency, https://aqs.epa.gov/aqsweb/airdata/download_files.html"
   ]
  },
  {
   "cell_type": "markdown",
   "id": "0573a812-ea6c-41bd-a693-579cf6f53193",
   "metadata": {},
   "source": [
    "### Dataset 2: Vehicle Registration Counts by State, 2016 - 2021\n",
    "Data source: U.S. Department of Energy, https://afdc.energy.gov/vehicle-registration"
   ]
  },
  {
   "cell_type": "markdown",
   "id": "a68dd184-0489-4c86-8f24-ecf79b8accf0",
   "metadata": {},
   "source": [
    "### Dataset 3: Electric Vehicle Population Data\n",
    "Data source: data.gov, https://catalog.data.gov/dataset/electric-vehicle-population-data"
   ]
  },
  {
   "cell_type": "markdown",
   "id": "1bf5a4f0-119e-4da8-b844-f45f30edd167",
   "metadata": {},
   "source": [
    "### Dataset 4: Alternative Fueling Station Counts by State, 2007 - 2022\n",
    "Data source: U.S. Department of Energy, https://afdc.energy.gov/stations/states"
   ]
  },
  {
   "cell_type": "markdown",
   "id": "1f6a1b9e-337c-4846-9828-15350ccbdaac",
   "metadata": {},
   "source": [
    "---\n",
    "## Cleaning"
   ]
  },
  {
   "cell_type": "markdown",
   "id": "75fc42e6-e488-4aaf-b4db-93f51423c50a",
   "metadata": {},
   "source": [
    "In this section, the initial dataframes are cleaned and condensed, removing unwanted and unnecessary data."
   ]
  },
  {
   "cell_type": "markdown",
   "id": "08771d10-c007-4904-932a-ae8ddf8d20db",
   "metadata": {
    "tags": []
   },
   "source": [
    "### Save Cleaned Dataframes"
   ]
  },
  {
   "cell_type": "code",
   "execution_count": 41,
   "id": "c261b517-f769-4f49-9ceb-d4393372e39c",
   "metadata": {
    "tags": []
   },
   "outputs": [],
   "source": [
    "df1.to_csv('../data/df1_cleaned.csv', index=False)\n",
    "df2.to_csv('../data/df2_cleaned.csv', index=False)\n",
    "df3.to_csv('../data/df3_cleaned.csv', index=False)\n",
    "df4.to_csv('../data/df4_cleaned.csv', index=False)"
   ]
  },
  {
   "cell_type": "markdown",
   "id": "ddf6c04b-5f3e-43fe-ac2b-3d4a0d8005b2",
   "metadata": {
    "tags": []
   },
   "source": [
    "---\n",
    "#### Notebook Links\n",
    "\n",
    "Part II - Exploratory Data Analysis (EDA)\n",
    "- [`Part-2_eda.ipynb`](../code/Part-1_eda.ipynb)\n",
    "\n",
    "Part III - Modeling\n",
    "- [`Part-3_modeling.ipynb`](../code/Part-3_modeling.ipynb)\n",
    "\n",
    "Part IV - Conclusion, Recommendations, and Sources\n",
    "- [`Part-4_conclusion-and-recommendations.ipynb`](../code/Part-4_conclusion-and-recommendations.ipynb)"
   ]
  }
 ],
 "metadata": {
  "kernelspec": {
   "display_name": "Python 3 (ipykernel)",
   "language": "python",
   "name": "python3"
  },
  "language_info": {
   "codemirror_mode": {
    "name": "ipython",
    "version": 3
   },
   "file_extension": ".py",
   "mimetype": "text/x-python",
   "name": "python",
   "nbconvert_exporter": "python",
   "pygments_lexer": "ipython3",
   "version": "3.10.7"
  },
  "toc-showtags": false
 },
 "nbformat": 4,
 "nbformat_minor": 5
}
