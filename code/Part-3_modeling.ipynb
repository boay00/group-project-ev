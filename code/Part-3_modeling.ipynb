{
 "cells": [
  {
   "cell_type": "markdown",
   "id": "a7a73bfa-6f77-4c06-a275-9ab8c592df19",
   "metadata": {
    "tags": []
   },
   "source": [
    "# Project 4: Quantifying Impact of EV Charging Stations on Air Quality\n",
    "\n",
    "## Part III - Modeling\n",
    "\n",
    "Authors: Aichieh Lin, Bede Young, and Charles Ramey\n",
    "\n",
    "Date: 05/05/2023\n",
    "\n",
    "---"
   ]
  },
  {
   "cell_type": "markdown",
   "id": "ef7969e0-f09a-4150-9895-4106f59694de",
   "metadata": {},
   "source": [
    "#### Notebook Links\n",
    "\n",
    "Part I - Project Intro & Data Cleaning\n",
    "- [`Part-1_setup-and-cleaning.ipynb`](../code/Part-1_setup-and-cleaning.ipynb)\n",
    "\n",
    "Part II - Exploratory Data Analysis (EDA)\n",
    "- [`Part-2_eda.ipynb`](../code/Part-2_eda.ipynb)\n",
    "\n",
    "Part IV - Conclusion, Recommendations, and Sources\n",
    "- [`Part-4_conclusion-and-recommendations.ipynb`](../code/Part-4_conclusion-and-recommendations.ipynb)"
   ]
  },
  {
   "cell_type": "markdown",
   "id": "0e1db3b3-860b-4947-ad16-04097ac5d4eb",
   "metadata": {},
   "source": [
    "### Contents\n",
    "\n",
    "- [Data Import and Preprocessing](#Data-Import-and-Cleaning)\n",
    "- [Modeling](#Modeling)"
   ]
  },
  {
   "cell_type": "markdown",
   "id": "fcc3a5b2-62c9-4972-a30f-198c8f48ad2c",
   "metadata": {},
   "source": [
    "### Library Imports"
   ]
  },
  {
   "cell_type": "code",
   "execution_count": 1,
   "id": "964855c1-528c-4270-8479-fa022f13211d",
   "metadata": {
    "tags": []
   },
   "outputs": [],
   "source": [
    "import numpy as np\n",
    "import pandas as pd\n",
    "\n"
   ]
  },
  {
   "cell_type": "markdown",
   "id": "4eb4c1c2-54bc-48c9-8933-fb2f72f9f944",
   "metadata": {},
   "source": [
    "## Data Import"
   ]
  },
  {
   "cell_type": "code",
   "execution_count": 2,
   "id": "735e9aed-0a3f-4785-bb42-98501d5b26a1",
   "metadata": {},
   "outputs": [
    {
     "ename": "FileNotFoundError",
     "evalue": "[Errno 2] No such file or directory: '../output/air_quality_by_county_daily.csv'",
     "output_type": "error",
     "traceback": [
      "\u001b[1;31m---------------------------------------------------------------------------\u001b[0m",
      "\u001b[1;31mFileNotFoundError\u001b[0m                         Traceback (most recent call last)",
      "Cell \u001b[1;32mIn[2], line 2\u001b[0m\n\u001b[0;32m      1\u001b[0m \u001b[38;5;66;03m# read data\u001b[39;00m\n\u001b[1;32m----> 2\u001b[0m df \u001b[38;5;241m=\u001b[39m \u001b[43mpd\u001b[49m\u001b[38;5;241;43m.\u001b[39;49m\u001b[43mread_csv\u001b[49m\u001b[43m(\u001b[49m\u001b[38;5;124;43m'\u001b[39;49m\u001b[38;5;124;43m../output/air_quality_by_county_daily.csv\u001b[39;49m\u001b[38;5;124;43m'\u001b[39;49m\u001b[43m)\u001b[49m\n\u001b[0;32m      4\u001b[0m \u001b[38;5;66;03m# Change date column to be datetime dtype\u001b[39;00m\n\u001b[0;32m      5\u001b[0m df[\u001b[38;5;124m'\u001b[39m\u001b[38;5;124mdate\u001b[39m\u001b[38;5;124m'\u001b[39m] \u001b[38;5;241m=\u001b[39m pd\u001b[38;5;241m.\u001b[39mto_datetime(df[\u001b[38;5;124m'\u001b[39m\u001b[38;5;124mdate\u001b[39m\u001b[38;5;124m'\u001b[39m])\n",
      "File \u001b[1;32m~\\AppData\\Local\\Programs\\Python\\Python310\\lib\\site-packages\\pandas\\io\\parsers\\readers.py:912\u001b[0m, in \u001b[0;36mread_csv\u001b[1;34m(filepath_or_buffer, sep, delimiter, header, names, index_col, usecols, dtype, engine, converters, true_values, false_values, skipinitialspace, skiprows, skipfooter, nrows, na_values, keep_default_na, na_filter, verbose, skip_blank_lines, parse_dates, infer_datetime_format, keep_date_col, date_parser, date_format, dayfirst, cache_dates, iterator, chunksize, compression, thousands, decimal, lineterminator, quotechar, quoting, doublequote, escapechar, comment, encoding, encoding_errors, dialect, on_bad_lines, delim_whitespace, low_memory, memory_map, float_precision, storage_options, dtype_backend)\u001b[0m\n\u001b[0;32m    899\u001b[0m kwds_defaults \u001b[38;5;241m=\u001b[39m _refine_defaults_read(\n\u001b[0;32m    900\u001b[0m     dialect,\n\u001b[0;32m    901\u001b[0m     delimiter,\n\u001b[1;32m   (...)\u001b[0m\n\u001b[0;32m    908\u001b[0m     dtype_backend\u001b[38;5;241m=\u001b[39mdtype_backend,\n\u001b[0;32m    909\u001b[0m )\n\u001b[0;32m    910\u001b[0m kwds\u001b[38;5;241m.\u001b[39mupdate(kwds_defaults)\n\u001b[1;32m--> 912\u001b[0m \u001b[38;5;28;01mreturn\u001b[39;00m \u001b[43m_read\u001b[49m\u001b[43m(\u001b[49m\u001b[43mfilepath_or_buffer\u001b[49m\u001b[43m,\u001b[49m\u001b[43m \u001b[49m\u001b[43mkwds\u001b[49m\u001b[43m)\u001b[49m\n",
      "File \u001b[1;32m~\\AppData\\Local\\Programs\\Python\\Python310\\lib\\site-packages\\pandas\\io\\parsers\\readers.py:577\u001b[0m, in \u001b[0;36m_read\u001b[1;34m(filepath_or_buffer, kwds)\u001b[0m\n\u001b[0;32m    574\u001b[0m _validate_names(kwds\u001b[38;5;241m.\u001b[39mget(\u001b[38;5;124m\"\u001b[39m\u001b[38;5;124mnames\u001b[39m\u001b[38;5;124m\"\u001b[39m, \u001b[38;5;28;01mNone\u001b[39;00m))\n\u001b[0;32m    576\u001b[0m \u001b[38;5;66;03m# Create the parser.\u001b[39;00m\n\u001b[1;32m--> 577\u001b[0m parser \u001b[38;5;241m=\u001b[39m TextFileReader(filepath_or_buffer, \u001b[38;5;241m*\u001b[39m\u001b[38;5;241m*\u001b[39mkwds)\n\u001b[0;32m    579\u001b[0m \u001b[38;5;28;01mif\u001b[39;00m chunksize \u001b[38;5;129;01mor\u001b[39;00m iterator:\n\u001b[0;32m    580\u001b[0m     \u001b[38;5;28;01mreturn\u001b[39;00m parser\n",
      "File \u001b[1;32m~\\AppData\\Local\\Programs\\Python\\Python310\\lib\\site-packages\\pandas\\io\\parsers\\readers.py:1407\u001b[0m, in \u001b[0;36mTextFileReader.__init__\u001b[1;34m(self, f, engine, **kwds)\u001b[0m\n\u001b[0;32m   1404\u001b[0m     \u001b[38;5;28mself\u001b[39m\u001b[38;5;241m.\u001b[39moptions[\u001b[38;5;124m\"\u001b[39m\u001b[38;5;124mhas_index_names\u001b[39m\u001b[38;5;124m\"\u001b[39m] \u001b[38;5;241m=\u001b[39m kwds[\u001b[38;5;124m\"\u001b[39m\u001b[38;5;124mhas_index_names\u001b[39m\u001b[38;5;124m\"\u001b[39m]\n\u001b[0;32m   1406\u001b[0m \u001b[38;5;28mself\u001b[39m\u001b[38;5;241m.\u001b[39mhandles: IOHandles \u001b[38;5;241m|\u001b[39m \u001b[38;5;28;01mNone\u001b[39;00m \u001b[38;5;241m=\u001b[39m \u001b[38;5;28;01mNone\u001b[39;00m\n\u001b[1;32m-> 1407\u001b[0m \u001b[38;5;28mself\u001b[39m\u001b[38;5;241m.\u001b[39m_engine \u001b[38;5;241m=\u001b[39m \u001b[38;5;28;43mself\u001b[39;49m\u001b[38;5;241;43m.\u001b[39;49m\u001b[43m_make_engine\u001b[49m\u001b[43m(\u001b[49m\u001b[43mf\u001b[49m\u001b[43m,\u001b[49m\u001b[43m \u001b[49m\u001b[38;5;28;43mself\u001b[39;49m\u001b[38;5;241;43m.\u001b[39;49m\u001b[43mengine\u001b[49m\u001b[43m)\u001b[49m\n",
      "File \u001b[1;32m~\\AppData\\Local\\Programs\\Python\\Python310\\lib\\site-packages\\pandas\\io\\parsers\\readers.py:1661\u001b[0m, in \u001b[0;36mTextFileReader._make_engine\u001b[1;34m(self, f, engine)\u001b[0m\n\u001b[0;32m   1659\u001b[0m     \u001b[38;5;28;01mif\u001b[39;00m \u001b[38;5;124m\"\u001b[39m\u001b[38;5;124mb\u001b[39m\u001b[38;5;124m\"\u001b[39m \u001b[38;5;129;01mnot\u001b[39;00m \u001b[38;5;129;01min\u001b[39;00m mode:\n\u001b[0;32m   1660\u001b[0m         mode \u001b[38;5;241m+\u001b[39m\u001b[38;5;241m=\u001b[39m \u001b[38;5;124m\"\u001b[39m\u001b[38;5;124mb\u001b[39m\u001b[38;5;124m\"\u001b[39m\n\u001b[1;32m-> 1661\u001b[0m \u001b[38;5;28mself\u001b[39m\u001b[38;5;241m.\u001b[39mhandles \u001b[38;5;241m=\u001b[39m \u001b[43mget_handle\u001b[49m\u001b[43m(\u001b[49m\n\u001b[0;32m   1662\u001b[0m \u001b[43m    \u001b[49m\u001b[43mf\u001b[49m\u001b[43m,\u001b[49m\n\u001b[0;32m   1663\u001b[0m \u001b[43m    \u001b[49m\u001b[43mmode\u001b[49m\u001b[43m,\u001b[49m\n\u001b[0;32m   1664\u001b[0m \u001b[43m    \u001b[49m\u001b[43mencoding\u001b[49m\u001b[38;5;241;43m=\u001b[39;49m\u001b[38;5;28;43mself\u001b[39;49m\u001b[38;5;241;43m.\u001b[39;49m\u001b[43moptions\u001b[49m\u001b[38;5;241;43m.\u001b[39;49m\u001b[43mget\u001b[49m\u001b[43m(\u001b[49m\u001b[38;5;124;43m\"\u001b[39;49m\u001b[38;5;124;43mencoding\u001b[39;49m\u001b[38;5;124;43m\"\u001b[39;49m\u001b[43m,\u001b[49m\u001b[43m \u001b[49m\u001b[38;5;28;43;01mNone\u001b[39;49;00m\u001b[43m)\u001b[49m\u001b[43m,\u001b[49m\n\u001b[0;32m   1665\u001b[0m \u001b[43m    \u001b[49m\u001b[43mcompression\u001b[49m\u001b[38;5;241;43m=\u001b[39;49m\u001b[38;5;28;43mself\u001b[39;49m\u001b[38;5;241;43m.\u001b[39;49m\u001b[43moptions\u001b[49m\u001b[38;5;241;43m.\u001b[39;49m\u001b[43mget\u001b[49m\u001b[43m(\u001b[49m\u001b[38;5;124;43m\"\u001b[39;49m\u001b[38;5;124;43mcompression\u001b[39;49m\u001b[38;5;124;43m\"\u001b[39;49m\u001b[43m,\u001b[49m\u001b[43m \u001b[49m\u001b[38;5;28;43;01mNone\u001b[39;49;00m\u001b[43m)\u001b[49m\u001b[43m,\u001b[49m\n\u001b[0;32m   1666\u001b[0m \u001b[43m    \u001b[49m\u001b[43mmemory_map\u001b[49m\u001b[38;5;241;43m=\u001b[39;49m\u001b[38;5;28;43mself\u001b[39;49m\u001b[38;5;241;43m.\u001b[39;49m\u001b[43moptions\u001b[49m\u001b[38;5;241;43m.\u001b[39;49m\u001b[43mget\u001b[49m\u001b[43m(\u001b[49m\u001b[38;5;124;43m\"\u001b[39;49m\u001b[38;5;124;43mmemory_map\u001b[39;49m\u001b[38;5;124;43m\"\u001b[39;49m\u001b[43m,\u001b[49m\u001b[43m \u001b[49m\u001b[38;5;28;43;01mFalse\u001b[39;49;00m\u001b[43m)\u001b[49m\u001b[43m,\u001b[49m\n\u001b[0;32m   1667\u001b[0m \u001b[43m    \u001b[49m\u001b[43mis_text\u001b[49m\u001b[38;5;241;43m=\u001b[39;49m\u001b[43mis_text\u001b[49m\u001b[43m,\u001b[49m\n\u001b[0;32m   1668\u001b[0m \u001b[43m    \u001b[49m\u001b[43merrors\u001b[49m\u001b[38;5;241;43m=\u001b[39;49m\u001b[38;5;28;43mself\u001b[39;49m\u001b[38;5;241;43m.\u001b[39;49m\u001b[43moptions\u001b[49m\u001b[38;5;241;43m.\u001b[39;49m\u001b[43mget\u001b[49m\u001b[43m(\u001b[49m\u001b[38;5;124;43m\"\u001b[39;49m\u001b[38;5;124;43mencoding_errors\u001b[39;49m\u001b[38;5;124;43m\"\u001b[39;49m\u001b[43m,\u001b[49m\u001b[43m \u001b[49m\u001b[38;5;124;43m\"\u001b[39;49m\u001b[38;5;124;43mstrict\u001b[39;49m\u001b[38;5;124;43m\"\u001b[39;49m\u001b[43m)\u001b[49m\u001b[43m,\u001b[49m\n\u001b[0;32m   1669\u001b[0m \u001b[43m    \u001b[49m\u001b[43mstorage_options\u001b[49m\u001b[38;5;241;43m=\u001b[39;49m\u001b[38;5;28;43mself\u001b[39;49m\u001b[38;5;241;43m.\u001b[39;49m\u001b[43moptions\u001b[49m\u001b[38;5;241;43m.\u001b[39;49m\u001b[43mget\u001b[49m\u001b[43m(\u001b[49m\u001b[38;5;124;43m\"\u001b[39;49m\u001b[38;5;124;43mstorage_options\u001b[39;49m\u001b[38;5;124;43m\"\u001b[39;49m\u001b[43m,\u001b[49m\u001b[43m \u001b[49m\u001b[38;5;28;43;01mNone\u001b[39;49;00m\u001b[43m)\u001b[49m\u001b[43m,\u001b[49m\n\u001b[0;32m   1670\u001b[0m \u001b[43m\u001b[49m\u001b[43m)\u001b[49m\n\u001b[0;32m   1671\u001b[0m \u001b[38;5;28;01massert\u001b[39;00m \u001b[38;5;28mself\u001b[39m\u001b[38;5;241m.\u001b[39mhandles \u001b[38;5;129;01mis\u001b[39;00m \u001b[38;5;129;01mnot\u001b[39;00m \u001b[38;5;28;01mNone\u001b[39;00m\n\u001b[0;32m   1672\u001b[0m f \u001b[38;5;241m=\u001b[39m \u001b[38;5;28mself\u001b[39m\u001b[38;5;241m.\u001b[39mhandles\u001b[38;5;241m.\u001b[39mhandle\n",
      "File \u001b[1;32m~\\AppData\\Local\\Programs\\Python\\Python310\\lib\\site-packages\\pandas\\io\\common.py:859\u001b[0m, in \u001b[0;36mget_handle\u001b[1;34m(path_or_buf, mode, encoding, compression, memory_map, is_text, errors, storage_options)\u001b[0m\n\u001b[0;32m    854\u001b[0m \u001b[38;5;28;01melif\u001b[39;00m \u001b[38;5;28misinstance\u001b[39m(handle, \u001b[38;5;28mstr\u001b[39m):\n\u001b[0;32m    855\u001b[0m     \u001b[38;5;66;03m# Check whether the filename is to be opened in binary mode.\u001b[39;00m\n\u001b[0;32m    856\u001b[0m     \u001b[38;5;66;03m# Binary mode does not support 'encoding' and 'newline'.\u001b[39;00m\n\u001b[0;32m    857\u001b[0m     \u001b[38;5;28;01mif\u001b[39;00m ioargs\u001b[38;5;241m.\u001b[39mencoding \u001b[38;5;129;01mand\u001b[39;00m \u001b[38;5;124m\"\u001b[39m\u001b[38;5;124mb\u001b[39m\u001b[38;5;124m\"\u001b[39m \u001b[38;5;129;01mnot\u001b[39;00m \u001b[38;5;129;01min\u001b[39;00m ioargs\u001b[38;5;241m.\u001b[39mmode:\n\u001b[0;32m    858\u001b[0m         \u001b[38;5;66;03m# Encoding\u001b[39;00m\n\u001b[1;32m--> 859\u001b[0m         handle \u001b[38;5;241m=\u001b[39m \u001b[38;5;28;43mopen\u001b[39;49m\u001b[43m(\u001b[49m\n\u001b[0;32m    860\u001b[0m \u001b[43m            \u001b[49m\u001b[43mhandle\u001b[49m\u001b[43m,\u001b[49m\n\u001b[0;32m    861\u001b[0m \u001b[43m            \u001b[49m\u001b[43mioargs\u001b[49m\u001b[38;5;241;43m.\u001b[39;49m\u001b[43mmode\u001b[49m\u001b[43m,\u001b[49m\n\u001b[0;32m    862\u001b[0m \u001b[43m            \u001b[49m\u001b[43mencoding\u001b[49m\u001b[38;5;241;43m=\u001b[39;49m\u001b[43mioargs\u001b[49m\u001b[38;5;241;43m.\u001b[39;49m\u001b[43mencoding\u001b[49m\u001b[43m,\u001b[49m\n\u001b[0;32m    863\u001b[0m \u001b[43m            \u001b[49m\u001b[43merrors\u001b[49m\u001b[38;5;241;43m=\u001b[39;49m\u001b[43merrors\u001b[49m\u001b[43m,\u001b[49m\n\u001b[0;32m    864\u001b[0m \u001b[43m            \u001b[49m\u001b[43mnewline\u001b[49m\u001b[38;5;241;43m=\u001b[39;49m\u001b[38;5;124;43m\"\u001b[39;49m\u001b[38;5;124;43m\"\u001b[39;49m\u001b[43m,\u001b[49m\n\u001b[0;32m    865\u001b[0m \u001b[43m        \u001b[49m\u001b[43m)\u001b[49m\n\u001b[0;32m    866\u001b[0m     \u001b[38;5;28;01melse\u001b[39;00m:\n\u001b[0;32m    867\u001b[0m         \u001b[38;5;66;03m# Binary mode\u001b[39;00m\n\u001b[0;32m    868\u001b[0m         handle \u001b[38;5;241m=\u001b[39m \u001b[38;5;28mopen\u001b[39m(handle, ioargs\u001b[38;5;241m.\u001b[39mmode)\n",
      "\u001b[1;31mFileNotFoundError\u001b[0m: [Errno 2] No such file or directory: '../output/air_quality_by_county_daily.csv'"
     ]
    }
   ],
   "source": [
    "# read data\n",
    "df = pd.read_csv('../output/air_quality_by_county_daily.csv')\n",
    "\n",
    "# Change date column to be datetime dtype\n",
    "df['date'] = pd.to_datetime(df['date'])\n",
    "\n",
    "df.head()"
   ]
  },
  {
   "cell_type": "markdown",
   "id": "97e8d7b3-58ec-4511-8faf-86f4a2c433a8",
   "metadata": {
    "tags": []
   },
   "source": [
    "---\n",
    "## Modeling"
   ]
  },
  {
   "cell_type": "code",
   "execution_count": null,
   "id": "4ada12c6-26fb-445c-a908-863211bc323c",
   "metadata": {
    "scrolled": true
   },
   "outputs": [],
   "source": [
    "df_hazard = df[df['aqi'] > 500]"
   ]
  },
  {
   "cell_type": "code",
   "execution_count": null,
   "id": "7986f295-404d-4241-9087-86453a6f5f94",
   "metadata": {},
   "outputs": [],
   "source": [
    "df_hazard['defining_parameter'].unique()"
   ]
  },
  {
   "cell_type": "code",
   "execution_count": null,
   "id": "1ff191c5-69cd-4578-a6ec-4b910c4875ed",
   "metadata": {
    "scrolled": true
   },
   "outputs": [],
   "source": [
    "df_hazard['defining_parameter'].value_counts()"
   ]
  },
  {
   "cell_type": "code",
   "execution_count": null,
   "id": "04afb723-9237-48d5-b6c0-161f91f2122e",
   "metadata": {
    "scrolled": true
   },
   "outputs": [],
   "source": [
    "df_hazard['county_name'].value_counts()"
   ]
  },
  {
   "cell_type": "code",
   "execution_count": null,
   "id": "6dbfe402-59cb-4882-a69f-d62dde9f387a",
   "metadata": {},
   "outputs": [],
   "source": [
    "df_hazard['date'].value_counts()"
   ]
  },
  {
   "cell_type": "code",
   "execution_count": null,
   "id": "daaa2334-540c-4bb1-a3a5-21e633645df7",
   "metadata": {},
   "outputs": [],
   "source": [
    "df_daily_state = df.groupby(['state_name', 'date'])['aqi'].mean().reset_index()"
   ]
  },
  {
   "cell_type": "code",
   "execution_count": null,
   "id": "97d224cc-4ac0-49fc-9fcb-590c2977f6d1",
   "metadata": {},
   "outputs": [],
   "source": [
    "df_daily_state.head()"
   ]
  },
  {
   "cell_type": "code",
   "execution_count": null,
   "id": "c2a283e3-ea2c-4826-b004-a659db3d05b2",
   "metadata": {},
   "outputs": [],
   "source": [
    "df_daily_state.sort_values('aqi').tail()"
   ]
  },
  {
   "cell_type": "code",
   "execution_count": null,
   "id": "cecf5dfd-900a-4b76-b8f6-75fbf719f9b6",
   "metadata": {},
   "outputs": [],
   "source": [
    "df_daily_all = df_daily_state.groupby(['date'])['aqi'].mean().reset_index()"
   ]
  },
  {
   "cell_type": "code",
   "execution_count": null,
   "id": "09658d0e-6f02-43bd-8b4f-85afd29a5fd4",
   "metadata": {},
   "outputs": [],
   "source": [
    "df_daily_all.head()"
   ]
  },
  {
   "cell_type": "code",
   "execution_count": null,
   "id": "e2096046-9511-4a1a-8f0d-9f3f1ab869b5",
   "metadata": {},
   "outputs": [],
   "source": [
    "df_daily_all.describe()"
   ]
  },
  {
   "cell_type": "code",
   "execution_count": null,
   "id": "79c0f8cb-796b-407b-ae29-8c076604fceb",
   "metadata": {
    "scrolled": true
   },
   "outputs": [],
   "source": [
    "df_daily_all.shape"
   ]
  },
  {
   "cell_type": "code",
   "execution_count": null,
   "id": "59584bf2-02ed-475d-bcf6-53de79203397",
   "metadata": {},
   "outputs": [],
   "source": [
    "# Set the index to be date\n",
    "df_daily_all.set_index('date', inplace=True)"
   ]
  },
  {
   "cell_type": "code",
   "execution_count": null,
   "id": "9017fb47-3bad-488a-b7dd-f1938a07b3f7",
   "metadata": {
    "scrolled": true
   },
   "outputs": [],
   "source": [
    "df_daily_all.head(), df_daily_all.tail() "
   ]
  },
  {
   "cell_type": "code",
   "execution_count": null,
   "id": "8efe9468-e92b-434a-84f1-37039b26a385",
   "metadata": {},
   "outputs": [],
   "source": [
    "# adopted from class\n",
    "# function for plot \n",
    "\n",
    "def plot_series(df, cols=None, title='Title', xlab=None, ylab=None, steps=1):\n",
    "    \n",
    "    # Set figure size to be (18, 9).\n",
    "    plt.figure(figsize=(18,9))\n",
    "    \n",
    "    # Iterate through each column name.\n",
    "    for col in cols:\n",
    "        \n",
    "        # Generate a line plot of the column name.\n",
    "        # You only have to specify Y, since our\n",
    "        # index will be a datetime index.\n",
    "        plt.plot(df[col])\n",
    "        \n",
    "    # Generate title and labels.\n",
    "    plt.title(title, fontsize=26)\n",
    "    plt.xlabel(xlab, fontsize=20)\n",
    "    plt.ylabel(ylab, fontsize=20)\n",
    "    \n",
    "    # Enlarge tick marks.\n",
    "    plt.xticks(fontsize=18)\n",
    "    plt.yticks(fontsize=18);"
   ]
  },
  {
   "cell_type": "markdown",
   "id": "07eef7f2-040f-4dcf-9c7f-5a8252ed0aef",
   "metadata": {},
   "source": [
    "### Daily Change in AQI, 2000 - 2022"
   ]
  },
  {
   "cell_type": "code",
   "execution_count": null,
   "id": "fb953a56-90de-457f-94db-15394e0116c0",
   "metadata": {},
   "outputs": [],
   "source": [
    "plot_series(df_daily_all, cols=['aqi'], title=\"Daily Change in AQI, 2000 - 2022\", xlab='Year', ylab = 'AQI')"
   ]
  },
  {
   "cell_type": "code",
   "execution_count": null,
   "id": "701f6352-746f-482f-8285-58eb82eb4d58",
   "metadata": {},
   "outputs": [],
   "source": [
    "from statsmodels.tsa.seasonal import seasonal_decompose"
   ]
  },
  {
   "cell_type": "code",
   "execution_count": null,
   "id": "f159e63f-6d78-493d-9a35-96d074d741fa",
   "metadata": {
    "scrolled": true
   },
   "outputs": [],
   "source": [
    "# adopted from class\n",
    "# Decompose time series into trend, seasonal, and residual components.\n",
    "decomp =seasonal_decompose(df_daily_all['aqi'])\n",
    "\n",
    "# Plot the decomposed time series.\n",
    "decomp.plot();"
   ]
  },
  {
   "cell_type": "markdown",
   "id": "11b6fac9-b4c2-4bf9-8a6e-0b93e7d4161b",
   "metadata": {},
   "source": [
    "### Monthly Change in AQI, 2000 - 2022"
   ]
  },
  {
   "cell_type": "code",
   "execution_count": null,
   "id": "a81087e6-f719-4163-b767-89896d853ad6",
   "metadata": {},
   "outputs": [],
   "source": [
    "# resample by month\n",
    "df_m = df_daily_all.resample('M').mean()"
   ]
  },
  {
   "cell_type": "code",
   "execution_count": null,
   "id": "31a161bc-9753-4f03-90ae-be2cb22edd0d",
   "metadata": {},
   "outputs": [],
   "source": [
    "df_m.head()"
   ]
  },
  {
   "cell_type": "code",
   "execution_count": null,
   "id": "affb8960-7e19-4740-8c78-1340206e249b",
   "metadata": {},
   "outputs": [],
   "source": [
    "plot_series(df_m, cols=['aqi'], title=\"Monthly Change in AQI, 2000 - 2022\", xlab='Year', ylab = 'AQI')"
   ]
  },
  {
   "cell_type": "code",
   "execution_count": null,
   "id": "1fbf458a-04b4-40bb-a88e-021de074da66",
   "metadata": {},
   "outputs": [],
   "source": [
    "# Decompose time series into trend, seasonal, and residual components.\n",
    "decomp =seasonal_decompose(df_m['aqi'])\n",
    "\n",
    "# Plot the decomposed time series.\n",
    "decomp.plot();"
   ]
  },
  {
   "cell_type": "markdown",
   "id": "19514acb-fbdd-49cb-983e-648fb91ca1b5",
   "metadata": {},
   "source": [
    "### Weekly Change in AQI, 2000 - 2022"
   ]
  },
  {
   "cell_type": "code",
   "execution_count": null,
   "id": "dfef4184-e878-4338-a619-17f2b71464ee",
   "metadata": {},
   "outputs": [],
   "source": [
    "# resample by week\n",
    "df_w = df_daily_all.resample('W').mean()"
   ]
  },
  {
   "cell_type": "code",
   "execution_count": null,
   "id": "50bbd93c-9693-499b-be62-2dd4097d9214",
   "metadata": {
    "scrolled": true
   },
   "outputs": [],
   "source": [
    "df_w.head()"
   ]
  },
  {
   "cell_type": "code",
   "execution_count": null,
   "id": "1c4c2db7-e329-47dc-9b5c-17fd2635dd48",
   "metadata": {
    "scrolled": true
   },
   "outputs": [],
   "source": [
    "plot_series(df_w, cols=['aqi'], title=\"Weekly Change in AQI, 2000 - 2022\", xlab='Year', ylab = 'AQI')"
   ]
  },
  {
   "cell_type": "code",
   "execution_count": null,
   "id": "626ec6c0-c52a-41a2-bd3c-b350c6555661",
   "metadata": {
    "scrolled": true
   },
   "outputs": [],
   "source": [
    "# Decompose time series into trend, seasonal, and residual components.\n",
    "decomp =seasonal_decompose(df_w['aqi'])\n",
    "\n",
    "# Plot the decomposed time series.\n",
    "decomp.plot();"
   ]
  },
  {
   "cell_type": "markdown",
   "id": "1e899753-b34d-4358-b389-c2071f333c48",
   "metadata": {},
   "source": [
    "### Daily Change in AQI, 2012 - 2022"
   ]
  },
  {
   "cell_type": "code",
   "execution_count": null,
   "id": "58350f7c-b292-4f91-ab51-2892d17b8ea5",
   "metadata": {},
   "outputs": [],
   "source": [
    "df_10_year = df_daily_all.loc['2012-11-02':'2022-11-02']"
   ]
  },
  {
   "cell_type": "code",
   "execution_count": null,
   "id": "fb98170d-f3f0-4fe7-a445-e2f6665fc079",
   "metadata": {},
   "outputs": [],
   "source": [
    "df_10_year.head()"
   ]
  },
  {
   "cell_type": "code",
   "execution_count": null,
   "id": "604e0ccb-7690-453f-91f9-00ec59cb1803",
   "metadata": {},
   "outputs": [],
   "source": [
    "plot_series(df_10_year, cols=['aqi'], title=\"Daily Change in AQI, 2012 - 2022\", xlab='Year', ylab = 'AQI')"
   ]
  },
  {
   "cell_type": "code",
   "execution_count": null,
   "id": "7dbe94fc-7caa-4e84-860c-0272ae58de05",
   "metadata": {},
   "outputs": [],
   "source": [
    "# Decompose time series into trend, seasonal, and residual components.\n",
    "decomp =seasonal_decompose(df_10_year['aqi'])\n",
    "\n",
    "# Plot the decomposed time series.\n",
    "decomp.plot();"
   ]
  },
  {
   "cell_type": "markdown",
   "id": "f7fd61d4-13b9-443d-a700-dba27b09af6e",
   "metadata": {},
   "source": [
    "### Monthly Change in AQI, 2012 - 2022"
   ]
  },
  {
   "cell_type": "code",
   "execution_count": null,
   "id": "067c820c-77c9-43b0-8905-6f3596b4caf7",
   "metadata": {},
   "outputs": [],
   "source": [
    "# resample by month\n",
    "df_10_year_m = df_10_year.resample('M').mean()"
   ]
  },
  {
   "cell_type": "code",
   "execution_count": null,
   "id": "1223fcdb-c041-4839-a62c-0bf6853ecef2",
   "metadata": {},
   "outputs": [],
   "source": [
    "df_10_year_m.head()"
   ]
  },
  {
   "cell_type": "code",
   "execution_count": null,
   "id": "0a471772-5843-4162-928d-9243bdbc23ba",
   "metadata": {},
   "outputs": [],
   "source": [
    "plot_series(df_10_year_m, cols=['aqi'], title=\"Monthly Change in AQI, 2012 - 2022\", xlab='Year', ylab = 'AQI')"
   ]
  },
  {
   "cell_type": "code",
   "execution_count": null,
   "id": "442ad901-7865-466c-8731-0b68161e7f11",
   "metadata": {},
   "outputs": [],
   "source": [
    "# Decompose time series into trend, seasonal, and residual components.\n",
    "decomp =seasonal_decompose(df_10_year_m['aqi'])\n",
    "\n",
    "# Plot the decomposed time series.\n",
    "decomp.plot();"
   ]
  },
  {
   "cell_type": "markdown",
   "id": "96ca2f19-d30b-4c53-8d3a-abbfe5966e2c",
   "metadata": {},
   "source": [
    "### Weekly Change in AQI, 2012 - 2022"
   ]
  },
  {
   "cell_type": "code",
   "execution_count": null,
   "id": "7ad72b6c-5e3b-415e-adca-f99d1d115023",
   "metadata": {},
   "outputs": [],
   "source": [
    "# resample by week\n",
    "df_10_year_w = df_10_year.resample('W').mean()"
   ]
  },
  {
   "cell_type": "code",
   "execution_count": null,
   "id": "c098b381-341a-4249-82c3-da4adfe2fb9a",
   "metadata": {
    "scrolled": true
   },
   "outputs": [],
   "source": [
    "df_10_year_w.head()"
   ]
  },
  {
   "cell_type": "code",
   "execution_count": null,
   "id": "3c53c75a-183c-4d44-b892-af90f965149f",
   "metadata": {
    "scrolled": true
   },
   "outputs": [],
   "source": [
    "plot_series(df_10_year_w, cols=['aqi'], title=\"Weekly Change in AQI, 2012 - 2022\", xlab='Year', ylab = 'AQI')"
   ]
  },
  {
   "cell_type": "code",
   "execution_count": null,
   "id": "fac25eaf-ee66-417d-bade-1b2e2bc9238e",
   "metadata": {
    "scrolled": true
   },
   "outputs": [],
   "source": [
    "# Decompose time series into trend, seasonal, and residual components.\n",
    "decomp =seasonal_decompose(df_10_year_w['aqi'])\n",
    "\n",
    "# Plot the decomposed time series.\n",
    "decomp.plot();"
   ]
  },
  {
   "cell_type": "markdown",
   "id": "60293fa7-6322-4ca7-97f4-2caef5c66b3a",
   "metadata": {},
   "source": [
    "### Autocorrelation of  Monthly AQI Change 2000-2022"
   ]
  },
  {
   "cell_type": "code",
   "execution_count": null,
   "id": "46bf983d-b75e-4cb3-9275-a0c2cf544b9f",
   "metadata": {},
   "outputs": [],
   "source": [
    "# Generate the ACF plot on AQI data\n",
    "\n",
    "plot_acf(df_m['aqi'], lags = 20);"
   ]
  },
  {
   "cell_type": "code",
   "execution_count": null,
   "id": "0d21e9ae-ed40-4d2d-9b88-44bec1370f68",
   "metadata": {},
   "outputs": [],
   "source": [
    "# Generate the PACF plot on AQI data\n",
    "\n",
    "plot_pacf(df_m['aqi'], lags = 20);"
   ]
  },
  {
   "cell_type": "markdown",
   "id": "08a7920d-033a-42df-90d3-2dc70041746f",
   "metadata": {},
   "source": [
    "#### Take away:\n",
    "1. Based on the time plot, there is a trend. Overall, the trend is descreasing.\n",
    "2. Based on the time plot, there is evidence of seasonality. There appear to be peaks around the summer time about every twelve months. This makes sense, more outdoor activities(traveling by car or plane) and increased usage of air conditioning. \n",
    "3. Based on the ACF plot, there is a trend. the coefficient is high at lag 1, 12, 13 and low at lag 6, 7, 8, 17, 18, 19. In terms of the month, high positive correlations for January, November, December, whereas April to August have negative correlations.\n",
    "4. Based on the ACF and PACF plots, there is evidence of seasonality. In the ACF plot, there is a \"scalloped\" shape visually and the ACF values peak and bottom roughly every 12 months. In the PACF plot, there are some seasonal fluctuations suggesting by positive and some negative significant partial autocorrelations."
   ]
  },
  {
   "cell_type": "code",
   "execution_count": null,
   "id": "11e30c96-17f0-4fd5-a4b8-932b59c72cc6",
   "metadata": {},
   "outputs": [],
   "source": [
    "# Generate a dataframe with AQI data \n",
    "# adopted from class\n",
    "\n",
    "# lags AQI by one month\n",
    "df_m['aqi_lag_1'] = df_m['aqi'].shift(1)\n",
    "# lags AQI by two month\n",
    "df_m['aqi_lag_2'] = df_m['aqi'].shift(2)\n",
    "# lags AQI by one year\n",
    "df_m['aqi_seasonal'] = df_m['aqi'].shift(12)\n"
   ]
  },
  {
   "cell_type": "code",
   "execution_count": null,
   "id": "9ec79d56-fb9a-4b2e-8b9b-681a3d69498c",
   "metadata": {},
   "outputs": [],
   "source": [
    "# Calculate the correlations among these columns.\n",
    "df_m.corr()"
   ]
  },
  {
   "cell_type": "code",
   "execution_count": null,
   "id": "ac565f1b-cd0e-491e-9692-2e22ab40ec23",
   "metadata": {},
   "outputs": [],
   "source": [
    "# Create a variable called `time` that takes on a value of 0 in for begining of the data 2000-01-31,\n",
    "# then increases by 1 each month until the end of the dataframe.\n",
    "df_m['time'] = range(0, df_m.shape[0])"
   ]
  },
  {
   "cell_type": "code",
   "execution_count": null,
   "id": "129f8b9c-d426-4f69-83b0-b40f30289a7d",
   "metadata": {},
   "outputs": [],
   "source": [
    "df_m.head(), df_m.tail()"
   ]
  },
  {
   "cell_type": "markdown",
   "id": "ef7af87e-db6f-4fe3-a8de-f6bd0cdaed17",
   "metadata": {},
   "source": [
    "### Linear model"
   ]
  },
  {
   "cell_type": "code",
   "execution_count": null,
   "id": "5f82b9bd-33eb-4c9e-95e4-e695738b1438",
   "metadata": {},
   "outputs": [],
   "source": [
    "# Generate train/test split.\n",
    "X_train, X_test, y_train, y_test = train_test_split(df_m.drop(columns='aqi'),\n",
    "                                                    df_m['aqi'],\n",
    "                                                    test_size = 0.2, shuffle=False)"
   ]
  },
  {
   "cell_type": "code",
   "execution_count": null,
   "id": "c2678779-e277-4366-b611-d85491580008",
   "metadata": {
    "scrolled": true
   },
   "outputs": [],
   "source": [
    "# Check shape \n",
    "X_train.shape, X_test.shape, y_train.shape, y_test.shape"
   ]
  },
  {
   "cell_type": "code",
   "execution_count": null,
   "id": "5cae6725-96a4-4b74-9c37-a20d0c5aebe9",
   "metadata": {},
   "outputs": [],
   "source": [
    "# Fit a linear model\n",
    "# Import statsmodels.\n",
    "import statsmodels.api as sm"
   ]
  },
  {
   "cell_type": "code",
   "execution_count": null,
   "id": "cdf9ee71-6346-43eb-843e-9dd0c33b7cec",
   "metadata": {},
   "outputs": [],
   "source": [
    "X_train = sm.add_constant(X_train)\n",
    "X_test = sm.add_constant(X_test)\n",
    "\n",
    "# check\n",
    "X_train.head()"
   ]
  },
  {
   "cell_type": "code",
   "execution_count": null,
   "id": "4205199a-becc-412e-b622-1aa47bd2f41f",
   "metadata": {},
   "outputs": [],
   "source": [
    "# dfop null value since statsmodels won't be able to handle missing values.\n",
    "\n",
    "X_train.dropna(inplace=True)\n",
    "y_train = y_train[X_train.index]\n",
    "\n",
    "# This way we subset y_train to keep only indices from X_train."
   ]
  },
  {
   "cell_type": "code",
   "execution_count": null,
   "id": "591b12eb-a383-40e5-9a81-4b1e062a68cc",
   "metadata": {},
   "outputs": [],
   "source": [
    "# instantiate the model\n",
    "lm = sm.OLS(y_train, X_train)\n",
    "\n",
    "# fit\n",
    "lm_results = lm.fit()"
   ]
  },
  {
   "cell_type": "code",
   "execution_count": null,
   "id": "59b31f39-9a1f-4d2a-be24-e55035075973",
   "metadata": {},
   "outputs": [],
   "source": [
    "print(lm_results.summary())"
   ]
  },
  {
   "cell_type": "code",
   "execution_count": null,
   "id": "7a1d8d92-8c1b-40c5-93f5-c6deb049fb30",
   "metadata": {},
   "outputs": [],
   "source": [
    "# Generate predicted test values.\n",
    "lm_results.predict(X_test)"
   ]
  },
  {
   "cell_type": "code",
   "execution_count": null,
   "id": "745f007d-69f6-4c24-bccf-91eabf9a5892",
   "metadata": {},
   "outputs": [],
   "source": [
    "# Import R2 score and MSE.\n",
    "from sklearn.metrics import r2_score, mean_squared_error"
   ]
  },
  {
   "cell_type": "code",
   "execution_count": null,
   "id": "375e2325-c27e-410e-be73-03548dc36287",
   "metadata": {
    "scrolled": true
   },
   "outputs": [],
   "source": [
    "print(f'R2 Score: {r2_score(y_test, lm_results.predict(X_test))}')\n",
    "print(f'RMSE: {mean_squared_error(y_test, lm_results.predict(X_test)) ** 0.5}')\n",
    "print(f'Mean AQI: {y_test.mean()}')"
   ]
  },
  {
   "cell_type": "code",
   "execution_count": null,
   "id": "4008a4fb-b4c9-460b-b5cb-37a4fd854789",
   "metadata": {
    "scrolled": true
   },
   "outputs": [],
   "source": [
    "# plot the  predictions; adopted from class\n",
    "\n",
    "# Set figure size.\n",
    "plt.figure(figsize=(20,10))\n",
    "\n",
    "# Plot training data.\n",
    "plt.plot(y_train.index, y_train.values, color = 'blue', label = 'train')\n",
    "\n",
    "# Plot testing data.\n",
    "plt.plot(y_test.index, y_test.values, color = 'orange', label = 'test')\n",
    "\n",
    "# Plot predicted test values.\n",
    "plt.plot(lm_results.predict(X_test), color = 'green', label = 'prediction')\n",
    "\n",
    "# Set label.\n",
    "plt.title(label = 'Forecasting AQI 2018-05-31 ~ 2022-11-30', fontsize=24)\n",
    "\n",
    "# Resize tick marks.\n",
    "plt.xticks(fontsize=20)\n",
    "plt.yticks(fontsize=20)\n",
    "plt.legend(fontsize=20);"
   ]
  },
  {
   "cell_type": "markdown",
   "id": "28268dc7-afca-42b5-a3e0-9a890a145724",
   "metadata": {},
   "source": [
    "### SARIMA(Seasonal Autoregressive Integrated Moving Average) Model"
   ]
  },
  {
   "cell_type": "code",
   "execution_count": null,
   "id": "2f326fd8-df7f-428b-b30e-d7673516634b",
   "metadata": {},
   "outputs": [],
   "source": [
    "from statsmodels.tsa.statespace.sarimax import SARIMAX\n",
    "\n",
    "# https://pypi.org/project/pmdarima/\n",
    "#!pip install pmdarima\n",
    "from pmdarima import auto_arima"
   ]
  },
  {
   "cell_type": "code",
   "execution_count": null,
   "id": "d6380c34-d0b3-49ac-9fbe-a8fd0503795b",
   "metadata": {},
   "outputs": [],
   "source": [
    "import pmdarima as pm\n",
    "from pmdarima.model_selection import train_test_split"
   ]
  },
  {
   "cell_type": "code",
   "execution_count": null,
   "id": "3c2312fa-6004-490b-b459-b06b9835e149",
   "metadata": {},
   "outputs": [],
   "source": [
    "# read data\n",
    "df = pd.read_csv('./output/air_quality_by_county_daily.csv')\n",
    "\n",
    "# Change date column to be datetime dtype\n",
    "df['date'] = pd.to_datetime(df['date'])\n",
    "\n",
    "# groupby 'state' and 'date' to get avg AQI by state\n",
    "df_daily_state = df.groupby(['state_name', 'date'])['aqi'].mean().reset_index()\n",
    "\n",
    "# groupby date' to get avg AQI by date\n",
    "df_daily_all = df_daily_state.groupby(['date'])['aqi'].mean().reset_index()\n",
    "\n",
    "# Set the index to be date\n",
    "df_daily_all.set_index('date', inplace=True)\n",
    "\n",
    "# resample by month\n",
    "df_m = df_daily_all.resample('M').mean()"
   ]
  },
  {
   "cell_type": "code",
   "execution_count": null,
   "id": "792de6fe-0949-4a59-beb9-b8b604c57628",
   "metadata": {},
   "outputs": [],
   "source": [
    "df_m.head()"
   ]
  },
  {
   "cell_type": "code",
   "execution_count": null,
   "id": "a430a21e-3ae2-40c0-a593-965e0fdbb147",
   "metadata": {},
   "outputs": [],
   "source": [
    "df_m.tail()"
   ]
  },
  {
   "cell_type": "code",
   "execution_count": null,
   "id": "f7714a01-182f-4447-a728-6a01b708ac23",
   "metadata": {
    "scrolled": true
   },
   "outputs": [],
   "source": [
    "# run auto arima to find the best parameter\n",
    "auto_arima(y=df_m['aqi'],start_p=0,start_P=0,start_q=0,start_Q=0,seasonal=True, m=12).summary()\n",
    "\n",
    "# the best model is: SARIMAX(3, 1, 4)x(1, 0, [1], 12)"
   ]
  },
  {
   "cell_type": "code",
   "execution_count": null,
   "id": "96ce0797-b51c-413e-84cf-a9f8fa67d1df",
   "metadata": {},
   "outputs": [],
   "source": [
    "len(df_m)"
   ]
  },
  {
   "cell_type": "code",
   "execution_count": null,
   "id": "f5a03be2-797e-47d5-9552-1a2574227536",
   "metadata": {},
   "outputs": [],
   "source": [
    "#split data into train and test:\n",
    "train = df_m[:220]\n",
    "test = df_m[220:]"
   ]
  },
  {
   "cell_type": "code",
   "execution_count": null,
   "id": "d8b6895b-0387-4866-8bc7-5e56da3962c2",
   "metadata": {},
   "outputs": [],
   "source": [
    "# Fit SARIMA model with the best parameter: (3, 1, 4)x(1, 0, [1], 12)\n",
    "sarima = SARIMAX(train.astype(float).dropna() , order = (3, 1, 4), seasonal_order = (1, 0, 1, 12))\n",
    "\n",
    "# Fit SARIMA model.\n",
    "model = sarima.fit()"
   ]
  },
  {
   "cell_type": "code",
   "execution_count": null,
   "id": "fd1d24eb-4f31-46f0-b6fe-2ebbc6867d17",
   "metadata": {},
   "outputs": [],
   "source": [
    "print(model.summary())"
   ]
  },
  {
   "cell_type": "code",
   "execution_count": null,
   "id": "92bddbdb-e91a-46dc-a1f5-25c1a8d7c0bf",
   "metadata": {},
   "outputs": [],
   "source": [
    "# obtain predicted values\n",
    "predictions = model.predict(start=220, end=274, typ='levels').rename('Predictions')"
   ]
  },
  {
   "cell_type": "code",
   "execution_count": null,
   "id": "d04c0ce0-baeb-4b36-a218-a3f6f3bd56eb",
   "metadata": {},
   "outputs": [],
   "source": [
    "# obtain forecasted values\n",
    "future_forecasts = model.predict(start=274, end=333, typ='levels').rename('future_forecasts')"
   ]
  },
  {
   "cell_type": "code",
   "execution_count": null,
   "id": "0128b587-f54c-41d5-be4a-557bd883b905",
   "metadata": {
    "scrolled": true
   },
   "outputs": [],
   "source": [
    "train.shape, test.shape, predictions.shape"
   ]
  },
  {
   "cell_type": "code",
   "execution_count": null,
   "id": "52979c42-5b81-4779-b3df-3eb040e67501",
   "metadata": {},
   "outputs": [],
   "source": [
    "# plot predictions ad future forecasts\n",
    "\n",
    "# Set figure size.\n",
    "plt.figure(figsize=(20,10))\n",
    "\n",
    "# Plot training data.\n",
    "plt.plot(train.index, train.values, color = 'blue', label = 'train')\n",
    "\n",
    "# Plot testing data.\n",
    "plt.plot(test.index, test.values, color = 'orange', label = 'test')\n",
    "\n",
    "# Plot predicted test values.\n",
    "plt.plot(predictions, color = 'green', label = 'prediction')\n",
    "\n",
    "# Plot predicted test values.\n",
    "plt.plot(future_forecasts, color = 'red', label = 'future forecasts')\n",
    "\n",
    "# Set label.\n",
    "plt.title(label = 'Forecasting AQI 2000-01-31 ~ 2027-12-31', fontsize=24)\n",
    "\n",
    "# Resize tick marks.\n",
    "plt.xticks(fontsize=20)\n",
    "plt.yticks(fontsize=20)\n",
    "plt.legend(fontsize=20);"
   ]
  },
  {
   "cell_type": "code",
   "execution_count": null,
   "id": "7e465fd7-efb9-4b16-9dff-374269f1f328",
   "metadata": {
    "scrolled": true
   },
   "outputs": [],
   "source": [
    "print(f'R2 Score: {r2_score(test, predictions).round(2)}')\n",
    "print(f'RMSE: {np.sqrt(mean_squared_error(test, predictions)).round(2)}')\n",
    "print(f'Mean AQI: {test.mean().round(2)}')"
   ]
  },
  {
   "cell_type": "code",
   "execution_count": null,
   "id": "15e4d4e9-13d9-4cb7-ae09-5811bc52dc6a",
   "metadata": {
    "scrolled": true
   },
   "outputs": [],
   "source": [
    "# Look at the first 5 values\n",
    "df_m['aqi'][:5]"
   ]
  },
  {
   "cell_type": "code",
   "execution_count": null,
   "id": "f3e93eba-4de1-41fb-bb94-3168ec95b41c",
   "metadata": {
    "scrolled": true
   },
   "outputs": [],
   "source": [
    "# Look at the first 5 values of our original series, differenced once.\n",
    "df_m['aqi'].diff(1)[:5]"
   ]
  },
  {
   "cell_type": "code",
   "execution_count": null,
   "id": "34df01b5-503e-4c95-a26e-c3f4ef830e1f",
   "metadata": {
    "scrolled": true
   },
   "outputs": [],
   "source": [
    "# Look at the first 5 values of our original series, differenced twice.\n",
    "df_m['aqi'].diff(1).diff(1)[:5]"
   ]
  },
  {
   "cell_type": "code",
   "execution_count": null,
   "id": "5da93dcc-d601-465d-8dac-35dde72c71e9",
   "metadata": {},
   "outputs": [],
   "source": [
    "# Create first_diff_aqi and second_diff_aqi\n",
    "df_m['first_diff_aqi'] = df_m['aqi'].diff(1)\n",
    "df_m['second_diff_aqi'] = df_m['aqi'].diff(1).diff(1)"
   ]
  },
  {
   "cell_type": "code",
   "execution_count": null,
   "id": "fbff8558-a21d-4771-8e2a-2456af1bace5",
   "metadata": {
    "scrolled": true
   },
   "outputs": [],
   "source": [
    "df_m.head()"
   ]
  },
  {
   "cell_type": "code",
   "execution_count": null,
   "id": "8b884dbe-483d-4b31-8741-fb18a4adf297",
   "metadata": {
    "scrolled": true
   },
   "outputs": [],
   "source": [
    "# plot differenced once data\n",
    "plot_series(df_m, cols=['first_diff_aqi'], title = \"First-Order Differenced Monthly AQI\", xlab='Year', ylab = 'AQI', \n",
    "            steps=18)"
   ]
  },
  {
   "cell_type": "code",
   "execution_count": null,
   "id": "fe44fd07-8788-440a-a88b-9043079e2931",
   "metadata": {
    "scrolled": true
   },
   "outputs": [],
   "source": [
    "# plot differenced twice data\n",
    "plot_series(df_m, cols=['second_diff_aqi'], title = \"First-Order Differenced Monthly AQI\", xlab='Year', ylab = 'AQI', \n",
    "            steps=18)"
   ]
  },
  {
   "cell_type": "code",
   "execution_count": null,
   "id": "e4962a3c-bda5-4af0-b668-2208c78f1fad",
   "metadata": {},
   "outputs": [],
   "source": [
    "# Checking for Stationarity: the Augmented Dickey-Fuller Test\n",
    "# Import Augmented Dickey-Fuller test.\n",
    "from statsmodels.tsa.stattools import adfuller"
   ]
  },
  {
   "cell_type": "code",
   "execution_count": null,
   "id": "95755f5b-04bd-4baa-acce-119b7c3410cb",
   "metadata": {
    "scrolled": true
   },
   "outputs": [],
   "source": [
    "# Run ADF test on original (non-differenced!) data.\n",
    "adfuller(df_m['aqi'])"
   ]
  },
  {
   "cell_type": "code",
   "execution_count": null,
   "id": "ca0f2de9-7114-47a3-9969-2e77ed6de143",
   "metadata": {},
   "outputs": [],
   "source": [
    "# adopted from class\n",
    "# Code written by Joseph Nelson.\n",
    "\n",
    "def interpret_dftest(dftest):\n",
    "    dfoutput = pd.Series(dftest[0:2], index=['Test Statistic','p-value'])\n",
    "    return dfoutput"
   ]
  },
  {
   "cell_type": "code",
   "execution_count": null,
   "id": "3d4136b9-7327-4795-b8e9-9002dcf555e2",
   "metadata": {
    "scrolled": true
   },
   "outputs": [],
   "source": [
    "# Run ADF test on original (non-differenced!) data.\n",
    "interpret_dftest(adfuller(df_m['aqi']))\n",
    "\n",
    "# p-value > 0.05, not stationarity"
   ]
  },
  {
   "cell_type": "code",
   "execution_count": null,
   "id": "221602ff-3b84-411d-8f8b-a9b1def556ec",
   "metadata": {
    "scrolled": true
   },
   "outputs": [],
   "source": [
    "# Run the ADF test on once-differenced data.\n",
    "\n",
    "interpret_dftest(adfuller(df_m['first_diff_aqi'].dropna()))"
   ]
  },
  {
   "cell_type": "code",
   "execution_count": null,
   "id": "c63cab7e-11df-4f09-a342-dc6e01acd459",
   "metadata": {
    "scrolled": true
   },
   "outputs": [],
   "source": [
    "# Run the ADF test on twice-differenced data.\n",
    "\n",
    "interpret_dftest(adfuller(df_m['second_diff_aqi'].dropna()))"
   ]
  },
  {
   "cell_type": "code",
   "execution_count": null,
   "id": "a4f418da-e32d-44cc-ba6d-ca6a5b63c1c3",
   "metadata": {},
   "outputs": [],
   "source": [
    "# Generate plot for original (non-differenced!) data.\n",
    "plot_acf(df_m['aqi'].dropna(), lags=20);"
   ]
  },
  {
   "cell_type": "code",
   "execution_count": null,
   "id": "7e2e4706-2a08-43dc-8b28-55bd8b55bf6e",
   "metadata": {
    "scrolled": true
   },
   "outputs": [],
   "source": [
    "# Generate plot for once-differenced data.\n",
    "plot_acf(df_m['first_diff_aqi'].dropna(), lags=20);"
   ]
  },
  {
   "cell_type": "code",
   "execution_count": null,
   "id": "3d939254-8100-447e-b0d2-19991d108fb2",
   "metadata": {
    "scrolled": true
   },
   "outputs": [],
   "source": [
    "# Generate plot for twice-differenced data.\n",
    "plot_acf(df_m['second_diff_aqi'].dropna(), lags=20);"
   ]
  },
  {
   "cell_type": "code",
   "execution_count": null,
   "id": "e441cf8d-43c2-44ef-b0ae-23c6840ef36e",
   "metadata": {},
   "outputs": [],
   "source": [
    "# Generate plot for original (non-differenced!) data.\n",
    "plot_pacf(df_m['aqi'].dropna(), lags=20);"
   ]
  },
  {
   "cell_type": "code",
   "execution_count": null,
   "id": "891da5c8-e3b9-490a-85ad-7177f679d778",
   "metadata": {},
   "outputs": [],
   "source": [
    "# Generate plot for once-differenced data.\n",
    "plot_pacf(df_m['first_diff_aqi'].dropna(), lags=20);"
   ]
  },
  {
   "cell_type": "code",
   "execution_count": null,
   "id": "83663c33-f12f-4e7e-9f56-2bbb22ddb2d3",
   "metadata": {
    "scrolled": true
   },
   "outputs": [],
   "source": [
    "# Generate plot for twice-differenced data..\n",
    "plot_pacf(df_m['second_diff_aqi'].dropna(), lags=20);"
   ]
  },
  {
   "cell_type": "markdown",
   "id": "30a8b7d8-c367-4e1c-8ab1-871b1abbc7b3",
   "metadata": {},
   "source": [
    "#### Take away:\n",
    "The predicted values are fairly close to our actual values using SARIMA with RMSE score of 2.77. Using this model to forcasts AQI value for 2023 and 2024 seems promising. Originally, we planned to use EV car registration as an external variable; however, we don't have the monthly data forEV car registration. "
   ]
  },
  {
   "cell_type": "markdown",
   "id": "4f701142-77be-47ae-9bdf-b54f315eca51",
   "metadata": {},
   "source": [
    "### California"
   ]
  },
  {
   "cell_type": "code",
   "execution_count": null,
   "id": "5c322426-86d4-4287-8d01-4bca1d98fdc0",
   "metadata": {
    "scrolled": true
   },
   "outputs": [],
   "source": [
    "df_daily_state.head()"
   ]
  },
  {
   "cell_type": "code",
   "execution_count": null,
   "id": "f81fd508-a510-4132-9d67-f9c0742c3ff3",
   "metadata": {},
   "outputs": [],
   "source": [
    "# how much is the average amount of pollution in each city stations\n",
    "most_polluted = df_daily_state[['state_name', 'aqi']].groupby(['state_name']).mean().sort_values(by = 'aqi', ascending = False)\n",
    "most_polluted"
   ]
  },
  {
   "cell_type": "code",
   "execution_count": null,
   "id": "df94fa80-6f5f-4120-ac87-3f5d7758c6d1",
   "metadata": {},
   "outputs": [],
   "source": [
    "aqi_california = df_daily_state[df_daily_state['state_name'] == 'California']"
   ]
  },
  {
   "cell_type": "code",
   "execution_count": null,
   "id": "a33c2356-a307-4f41-8782-b17b6dee8987",
   "metadata": {},
   "outputs": [],
   "source": [
    "aqi_california.head()"
   ]
  },
  {
   "cell_type": "code",
   "execution_count": null,
   "id": "d8609c7f-2a2d-41f8-bce7-67d483212a72",
   "metadata": {},
   "outputs": [],
   "source": [
    "aqi_california = aqi_california.drop(['state_name'], axis=1)"
   ]
  },
  {
   "cell_type": "code",
   "execution_count": null,
   "id": "4e794f77-7b5f-4382-8308-028fbd017669",
   "metadata": {},
   "outputs": [],
   "source": [
    "# Set the index to be date\n",
    "aqi_california.set_index('date', inplace=True)\n",
    "\n",
    "# resample by month\n",
    "aqi_california_m = aqi_california.resample('M').mean()"
   ]
  },
  {
   "cell_type": "code",
   "execution_count": null,
   "id": "05b9980e-ca63-4f93-a38c-80ae731b7e27",
   "metadata": {
    "scrolled": true
   },
   "outputs": [],
   "source": [
    "aqi_california_m.head()"
   ]
  },
  {
   "cell_type": "code",
   "execution_count": null,
   "id": "976970c6-34a8-4391-9c86-a78dcd14f066",
   "metadata": {
    "scrolled": true
   },
   "outputs": [],
   "source": [
    "# run auto arima to find the best parameter\n",
    "auto_arima(y=aqi_california_m['aqi'],start_p=0,start_P=0,start_q=0,start_Q=0,seasonal=True, m=12).summary()\n",
    "\n",
    "# the best model is: SARIMAX(5, 1, 1)x(1, 0, [1], 12)"
   ]
  },
  {
   "cell_type": "code",
   "execution_count": null,
   "id": "4b0c713d-23d4-4aaf-8d0a-2826fc69bf9d",
   "metadata": {},
   "outputs": [],
   "source": [
    "len(aqi_california_m)"
   ]
  },
  {
   "cell_type": "code",
   "execution_count": null,
   "id": "ca48bdbf-c5fd-4586-9e08-226108c2d69f",
   "metadata": {},
   "outputs": [],
   "source": [
    "#split data into train and test:\n",
    "train = aqi_california_m[:220]\n",
    "test = aqi_california_m[220:]"
   ]
  },
  {
   "cell_type": "code",
   "execution_count": null,
   "id": "8cc78d6b-cc5d-41e3-a9e0-e8af2d1b1fa0",
   "metadata": {},
   "outputs": [],
   "source": [
    "# Fit SARIMA model with the best parameter: (5, 1, 1)x(1, 0, [1], 12)\n",
    "sarima = SARIMAX(train.astype(float).dropna() , order = (5, 1, 1), seasonal_order = (1, 0, 1, 12))\n",
    "\n",
    "# Fit SARIMA model.\n",
    "model = sarima.fit()"
   ]
  },
  {
   "cell_type": "code",
   "execution_count": null,
   "id": "d6f82231-82d2-40b0-befc-b0c753e68be5",
   "metadata": {},
   "outputs": [],
   "source": [
    "print(model.summary())"
   ]
  },
  {
   "cell_type": "code",
   "execution_count": null,
   "id": "37ad22ab-976e-4f55-a093-25a4c6a58c8d",
   "metadata": {},
   "outputs": [],
   "source": [
    "# obtain predicted values\n",
    "predictions = model.predict(start=220, end=273, typ='levels').rename('Predictions')"
   ]
  },
  {
   "cell_type": "code",
   "execution_count": null,
   "id": "97fe37f6-39d5-4042-a39b-c50f22f69871",
   "metadata": {},
   "outputs": [],
   "source": [
    "# obtain forecasted values\n",
    "future_forecasts = model.predict(start=273, end=333, typ='levels').rename('future_forecasts')"
   ]
  },
  {
   "cell_type": "code",
   "execution_count": null,
   "id": "aef073d0-488f-4450-b3c8-552fb9ccb327",
   "metadata": {
    "scrolled": true
   },
   "outputs": [],
   "source": [
    "train.shape, test.shape, predictions.shape"
   ]
  },
  {
   "cell_type": "code",
   "execution_count": null,
   "id": "e8f49070-cb43-4bbf-b5b7-72445fd6b9d8",
   "metadata": {},
   "outputs": [],
   "source": [
    "# plot predictions ad future forecasts\n",
    "\n",
    "# Set figure size.\n",
    "plt.figure(figsize=(20,10))\n",
    "\n",
    "# Plot training data.\n",
    "plt.plot(train.index, train.values, color = 'blue', label = 'train')\n",
    "\n",
    "# Plot testing data.\n",
    "plt.plot(test.index, test.values, color = 'orange', label = 'test')\n",
    "\n",
    "# Plot predicted test values.\n",
    "plt.plot(predictions, color = 'green', label = 'prediction')\n",
    "\n",
    "# Plot predicted test values.\n",
    "plt.plot(future_forecasts, color = 'red', label = 'future forecasts')\n",
    "\n",
    "# Set label.\n",
    "plt.title(label = 'Forecasting California AQI 2000-01-31 ~ 2027-12-31', fontsize=24)\n",
    "\n",
    "# Resize tick marks.\n",
    "plt.xticks(fontsize=20)\n",
    "plt.yticks(fontsize=20)\n",
    "plt.legend(fontsize=20);"
   ]
  },
  {
   "cell_type": "code",
   "execution_count": null,
   "id": "c12812bc-bf2f-4149-97a3-36b2b034d84c",
   "metadata": {
    "scrolled": true
   },
   "outputs": [],
   "source": [
    "print(f'R2 Score: {r2_score(test, predictions)}')\n",
    "print(f'RMSE: {np.sqrt(mean_squared_error(test, predictions))}')\n",
    "print(f'Mean AQI: {test.mean()}')"
   ]
  },
  {
   "cell_type": "markdown",
   "id": "44f7404a-81f6-40ae-92bb-843de49fffa8",
   "metadata": {},
   "source": [
    "### Maryland"
   ]
  },
  {
   "cell_type": "code",
   "execution_count": null,
   "id": "81445e9d-bfaa-4ee7-a0df-7885a5676b58",
   "metadata": {},
   "outputs": [],
   "source": [
    "aqi_maryland = df_daily_state[df_daily_state['state_name'] == 'Maryland']"
   ]
  },
  {
   "cell_type": "code",
   "execution_count": null,
   "id": "72da34df-a488-43cf-b4b2-9b48462e2155",
   "metadata": {},
   "outputs": [],
   "source": [
    "aqi_maryland.head()"
   ]
  },
  {
   "cell_type": "code",
   "execution_count": null,
   "id": "34a68a6e-286e-486b-87cf-ebcbefea5784",
   "metadata": {},
   "outputs": [],
   "source": [
    "aqi_maryland = aqi_maryland.drop(['state_name'], axis=1)"
   ]
  },
  {
   "cell_type": "code",
   "execution_count": null,
   "id": "65ac5db4-6973-47d0-9b15-28a46f292290",
   "metadata": {
    "scrolled": true
   },
   "outputs": [],
   "source": [
    "aqi_maryland.head()"
   ]
  },
  {
   "cell_type": "code",
   "execution_count": null,
   "id": "5b942a0b-1ca3-48e6-821c-0098e45f9e7b",
   "metadata": {},
   "outputs": [],
   "source": [
    "# Set the index to be date\n",
    "aqi_maryland.set_index('date', inplace=True)\n",
    "\n",
    "# resample by month\n",
    "aqi_maryland_m = aqi_maryland.resample('M').mean()"
   ]
  },
  {
   "cell_type": "code",
   "execution_count": null,
   "id": "bb4e5e4f-5451-4b04-9a9d-f1452860f17e",
   "metadata": {
    "scrolled": true
   },
   "outputs": [],
   "source": [
    "aqi_maryland_m"
   ]
  },
  {
   "cell_type": "code",
   "execution_count": null,
   "id": "d5caadf7-9c1a-4038-9dda-c468ce2eed8e",
   "metadata": {
    "scrolled": true
   },
   "outputs": [],
   "source": [
    "# run auto arima to find the best parameter\n",
    "auto_arima(y=aqi_maryland_m['aqi'],start_p=0,start_P=0,start_q=0,start_Q=0,seasonal=True, m=12).summary()\n",
    "\n",
    "# the best model is: SARIMAX(1, 1, 1)x(1, 0, [1], 12)"
   ]
  },
  {
   "cell_type": "code",
   "execution_count": null,
   "id": "30ac1d81-099e-412a-b46b-96ff940176cd",
   "metadata": {},
   "outputs": [],
   "source": [
    "len(aqi_maryland_m)"
   ]
  },
  {
   "cell_type": "code",
   "execution_count": null,
   "id": "1bc300d1-f6a3-443d-bbc7-5f5cca6e97e3",
   "metadata": {},
   "outputs": [],
   "source": [
    "#split data into train and test:\n",
    "train = aqi_maryland_m[:220]\n",
    "test = aqi_maryland_m[220:273]"
   ]
  },
  {
   "cell_type": "code",
   "execution_count": null,
   "id": "49b1107b-0cf7-4f5d-a0f8-3cb40a75adc5",
   "metadata": {},
   "outputs": [],
   "source": [
    "# Fit SARIMA model with the best parameter: (1, 1, 1)x(1, 0, [1], 12)\n",
    "sarima = SARIMAX(train.astype(float).dropna() , order = (1, 1, 1), seasonal_order = (1, 0, 1, 12))\n",
    "\n",
    "# Fit SARIMA model.\n",
    "model = sarima.fit()"
   ]
  },
  {
   "cell_type": "code",
   "execution_count": null,
   "id": "a177ab7c-46d3-4fd6-8e31-34f71b76e717",
   "metadata": {},
   "outputs": [],
   "source": [
    "print(model.summary())"
   ]
  },
  {
   "cell_type": "code",
   "execution_count": null,
   "id": "86f9e9dc-61b0-4b09-8160-03b571da6569",
   "metadata": {},
   "outputs": [],
   "source": [
    "# obtain predicted values\n",
    "predictions = model.predict(start=220, end=272, typ='levels').rename('Predictions')"
   ]
  },
  {
   "cell_type": "code",
   "execution_count": null,
   "id": "f05ac3ab-fc0b-484c-85fb-b98cc0d5bdaa",
   "metadata": {},
   "outputs": [],
   "source": [
    "# obtain forecasted values\n",
    "future_forecasts = model.predict(start=273, end=333, typ='levels').rename('future_forecasts')"
   ]
  },
  {
   "cell_type": "code",
   "execution_count": null,
   "id": "70b3d7b5-85ce-4d78-929e-bce906f61d4b",
   "metadata": {
    "scrolled": true
   },
   "outputs": [],
   "source": [
    "train.shape, test.shape, predictions.shape"
   ]
  },
  {
   "cell_type": "code",
   "execution_count": null,
   "id": "14b07e89-0976-4ac6-b7cb-a8225404a80f",
   "metadata": {},
   "outputs": [],
   "source": [
    "# plot predictions ad future forecasts\n",
    "\n",
    "# Set figure size.\n",
    "plt.figure(figsize=(20,10))\n",
    "\n",
    "# Plot training data.\n",
    "plt.plot(train.index, train.values, color = 'blue', label = 'train')\n",
    "\n",
    "# Plot testing data.\n",
    "plt.plot(test.index, test.values, color = 'orange', label = 'test')\n",
    "\n",
    "# Plot predicted test values.\n",
    "plt.plot(predictions, color = 'green', label = 'prediction')\n",
    "\n",
    "# Plot predicted test values.\n",
    "plt.plot(future_forecasts, color = 'red', label = 'future forecasts')\n",
    "\n",
    "# Set label.\n",
    "plt.title(label = 'Forecasting Maryland AQI 2000-01-31 ~ 2027-12-31', fontsize=24)\n",
    "\n",
    "# Resize tick marks.\n",
    "plt.xticks(fontsize=20)\n",
    "plt.yticks(fontsize=20)\n",
    "plt.legend(fontsize=20);"
   ]
  },
  {
   "cell_type": "code",
   "execution_count": null,
   "id": "fd40fc89-a4b4-4d90-a47a-970bbba7c30a",
   "metadata": {},
   "outputs": [],
   "source": [
    "print(f'R2 Score: {r2_score(test, predictions)}')\n",
    "print(f'RMSE: {np.sqrt(mean_squared_error(test, predictions))}')\n",
    "print(f'Mean AQI: {test.mean()}')"
   ]
  },
  {
   "cell_type": "markdown",
   "id": "cc49b968-2287-4c5d-921a-ad6c91d8800d",
   "metadata": {},
   "source": [
    "### Arizona"
   ]
  },
  {
   "cell_type": "code",
   "execution_count": null,
   "id": "03f9faa7-94d6-4b81-aa70-59f7398c1ed3",
   "metadata": {},
   "outputs": [],
   "source": [
    "aqi_arizona = df_daily_state[df_daily_state['state_name'] == 'Arizona']"
   ]
  },
  {
   "cell_type": "code",
   "execution_count": null,
   "id": "4ddceb10-f397-4a16-8c34-57de514da936",
   "metadata": {},
   "outputs": [],
   "source": [
    "aqi_arizona.head()"
   ]
  },
  {
   "cell_type": "code",
   "execution_count": null,
   "id": "cb8e7bfc-075e-4946-b11b-0fe8890a4186",
   "metadata": {},
   "outputs": [],
   "source": [
    "aqi_arizona = aqi_arizona.drop(['state_name'], axis=1)"
   ]
  },
  {
   "cell_type": "code",
   "execution_count": null,
   "id": "4db3bf37-a707-46ea-ba76-af425875e169",
   "metadata": {},
   "outputs": [],
   "source": [
    "# Set the index to be date\n",
    "aqi_arizona.set_index('date', inplace=True)\n",
    "\n",
    "# resample by month\n",
    "aqi_arizona_m = aqi_arizona.resample('M').mean()"
   ]
  },
  {
   "cell_type": "code",
   "execution_count": null,
   "id": "f540d0d3-5506-4748-aae1-4fb593aca3b9",
   "metadata": {
    "scrolled": true
   },
   "outputs": [],
   "source": [
    "aqi_arizona_m"
   ]
  },
  {
   "cell_type": "code",
   "execution_count": null,
   "id": "261d717e-1c25-4fe8-85a4-186327be7974",
   "metadata": {
    "scrolled": true
   },
   "outputs": [],
   "source": [
    "# run auto arima to find the best parameter\n",
    "auto_arima(y=aqi_arizona_m['aqi'],start_p=0,start_P=0,start_q=0,start_Q=0,seasonal=True, m=12).summary()\n",
    "\n",
    "# the best model is: SARIMAX(4, 1, 1)x(1, 0, [1,2], 12)"
   ]
  },
  {
   "cell_type": "code",
   "execution_count": null,
   "id": "327e9645-d7a7-4518-9777-303322e50a1c",
   "metadata": {},
   "outputs": [],
   "source": [
    "len(aqi_arizona_m)"
   ]
  },
  {
   "cell_type": "code",
   "execution_count": null,
   "id": "506cb785-c768-427c-b206-8fa4da33e62c",
   "metadata": {},
   "outputs": [],
   "source": [
    "#split data into train and test:\n",
    "train = aqi_arizona_m[:220]\n",
    "test = aqi_arizona_m[220:]"
   ]
  },
  {
   "cell_type": "code",
   "execution_count": null,
   "id": "75281183-007a-44be-bf63-ebeec2003380",
   "metadata": {},
   "outputs": [],
   "source": [
    "# Fit SARIMA model with the best parameter: (1, 1, 1)x(1, 0, [1], 12)\n",
    "sarima = SARIMAX(train.astype(float).dropna() , order = (4, 1, 1), seasonal_order = (1, 0, [1,2], 12))\n",
    "\n",
    "# Fit SARIMA model.\n",
    "model = sarima.fit()"
   ]
  },
  {
   "cell_type": "code",
   "execution_count": null,
   "id": "bb10cd15-a843-40e4-9269-24c7232afd50",
   "metadata": {},
   "outputs": [],
   "source": [
    "print(model.summary())"
   ]
  },
  {
   "cell_type": "code",
   "execution_count": null,
   "id": "1c99f1a7-4295-4993-9ab6-5d7183b35e02",
   "metadata": {},
   "outputs": [],
   "source": [
    "# obtain predicted values\n",
    "predictions = model.predict(start=220, end=273, typ='levels').rename('Predictions')"
   ]
  },
  {
   "cell_type": "code",
   "execution_count": null,
   "id": "6d8329fb-746f-46d3-982a-cd9b7fc6d93f",
   "metadata": {},
   "outputs": [],
   "source": [
    "# obtain forecasted values\n",
    "future_forecasts = model.predict(start=273, end=333, typ='levels').rename('future_forecasts')"
   ]
  },
  {
   "cell_type": "code",
   "execution_count": null,
   "id": "89724323-1757-41a6-a915-b260f01cdcb2",
   "metadata": {
    "scrolled": true
   },
   "outputs": [],
   "source": [
    "train.shape, test.shape, predictions.shape"
   ]
  },
  {
   "cell_type": "code",
   "execution_count": null,
   "id": "0a7a7ba8-6fbe-4d90-b1c8-5d256a74ce47",
   "metadata": {},
   "outputs": [],
   "source": [
    "# plot predictions ad future forecasts\n",
    "\n",
    "# Set figure size.\n",
    "plt.figure(figsize=(20,10))\n",
    "\n",
    "# Plot training data.\n",
    "plt.plot(train.index, train.values, color = 'blue', label = 'train')\n",
    "\n",
    "# Plot testing data.\n",
    "plt.plot(test.index, test.values, color = 'orange', label = 'test')\n",
    "\n",
    "# Plot predicted test values.\n",
    "plt.plot(predictions, color = 'green', label = 'prediction')\n",
    "\n",
    "# Plot predicted test values.\n",
    "plt.plot(future_forecasts, color = 'red', label = 'future forecasts')\n",
    "\n",
    "# Set label.\n",
    "plt.title(label = 'Forecasting Arizona AQI 2000-01-31 ~ 2027-12-31', fontsize=24)\n",
    "\n",
    "# Resize tick marks.\n",
    "plt.xticks(fontsize=20)\n",
    "plt.yticks(fontsize=20)\n",
    "plt.legend(fontsize=20);"
   ]
  },
  {
   "cell_type": "code",
   "execution_count": null,
   "id": "de8e42d1-206e-4a6c-a4c0-77bb7ae14077",
   "metadata": {
    "scrolled": true
   },
   "outputs": [],
   "source": [
    "print(f'R2 Score: {r2_score(test, predictions)}')\n",
    "print(f'RMSE: {np.sqrt(mean_squared_error(test, predictions))}')\n",
    "print(f'Mean AQI: {test.mean()}')"
   ]
  },
  {
   "cell_type": "markdown",
   "id": "a58d37cf-1722-49d1-8879-2071b76f536d",
   "metadata": {},
   "source": [
    "### New Mexico"
   ]
  },
  {
   "cell_type": "code",
   "execution_count": null,
   "id": "405e10a6-d2e2-4920-855b-fbbf66eaaa91",
   "metadata": {},
   "outputs": [],
   "source": [
    "aqi_newMexico = df_daily_state[df_daily_state['state_name'] == 'New Mexico']"
   ]
  },
  {
   "cell_type": "code",
   "execution_count": null,
   "id": "a947a198-213a-479f-8bcc-2f2519fc5c6e",
   "metadata": {},
   "outputs": [],
   "source": [
    "aqi_newMexico.head()"
   ]
  },
  {
   "cell_type": "code",
   "execution_count": null,
   "id": "79d38b07-acb1-470f-a62a-5564ad2f101f",
   "metadata": {},
   "outputs": [],
   "source": [
    "aqi_newMexico = aqi_newMexico.drop(['state_name'], axis=1)"
   ]
  },
  {
   "cell_type": "code",
   "execution_count": null,
   "id": "6549c698-5b47-4112-8bea-e1927e2a6b90",
   "metadata": {},
   "outputs": [],
   "source": [
    "# Set the index to be date\n",
    "aqi_newMexico.set_index('date', inplace=True)\n",
    "\n",
    "# resample by month\n",
    "aqi_newMexico_m = aqi_newMexico.resample('M').mean()"
   ]
  },
  {
   "cell_type": "code",
   "execution_count": null,
   "id": "3c63e9df-f057-43a4-90da-a2e201d1751f",
   "metadata": {
    "scrolled": true
   },
   "outputs": [],
   "source": [
    "aqi_newMexico_m"
   ]
  },
  {
   "cell_type": "code",
   "execution_count": null,
   "id": "ba6523b5-798b-46aa-a847-cd1217abf704",
   "metadata": {
    "scrolled": true
   },
   "outputs": [],
   "source": [
    "# run auto arima to find the best parameter\n",
    "auto_arima(y=aqi_newMexico_m['aqi'],start_p=0,start_P=0,start_q=0,start_Q=0,seasonal=True, m=12).summary()\n",
    "\n",
    "# the best model is: SARIMAX(1, 0, 0)x(1, 0, 1, 12)"
   ]
  },
  {
   "cell_type": "code",
   "execution_count": null,
   "id": "8f3080f3-6045-4b1c-b7b1-ac8d1912852a",
   "metadata": {},
   "outputs": [],
   "source": [
    "len(aqi_newMexico_m)"
   ]
  },
  {
   "cell_type": "code",
   "execution_count": null,
   "id": "b31194ca-b373-4488-88b4-e3c01b051c39",
   "metadata": {},
   "outputs": [],
   "source": [
    "#split data into train and test:\n",
    "train = aqi_newMexico_m[:220]\n",
    "test = aqi_newMexico_m[220:]"
   ]
  },
  {
   "cell_type": "code",
   "execution_count": null,
   "id": "bf6262fe-b3b0-4446-8778-a3af65efc859",
   "metadata": {},
   "outputs": [],
   "source": [
    "# Fit SARIMA model with the best parameter: (1, 0, 0)x(1, 0, [1], 12)\n",
    "sarima = SARIMAX(train.astype(float).dropna() , order = (1, 0, 0), seasonal_order = (1, 0, 1, 12))\n",
    "\n",
    "# Fit SARIMA model.\n",
    "model = sarima.fit()"
   ]
  },
  {
   "cell_type": "code",
   "execution_count": null,
   "id": "a667076f-f85f-4543-a6d8-f6523f0da840",
   "metadata": {},
   "outputs": [],
   "source": [
    "print(model.summary())"
   ]
  },
  {
   "cell_type": "code",
   "execution_count": null,
   "id": "7e3409ae-3187-4921-a513-1ac4b7835a1c",
   "metadata": {},
   "outputs": [],
   "source": [
    "# obtain predicted values\n",
    "predictions = model.predict(start=221, end=273, typ='levels').rename('Predictions')"
   ]
  },
  {
   "cell_type": "code",
   "execution_count": null,
   "id": "9f184d23-2922-4915-8528-7059232483c0",
   "metadata": {},
   "outputs": [],
   "source": [
    "# obtain forecasted values\n",
    "future_forecasts = model.predict(start=273, end=333, typ='levels').rename('future_forecasts')"
   ]
  },
  {
   "cell_type": "code",
   "execution_count": null,
   "id": "53550258-d801-4336-8f40-39169e026a1c",
   "metadata": {
    "scrolled": true
   },
   "outputs": [],
   "source": [
    "train.shape, test.shape, predictions.shape"
   ]
  },
  {
   "cell_type": "code",
   "execution_count": null,
   "id": "1bad1af7-09d3-4715-b888-230c881e7491",
   "metadata": {},
   "outputs": [],
   "source": [
    "# plot predictions ad future forecasts\n",
    "\n",
    "# Set figure size.\n",
    "plt.figure(figsize=(20,10))\n",
    "\n",
    "# Plot training data.\n",
    "plt.plot(train.index, train.values, color = 'blue', label = 'train')\n",
    "\n",
    "# Plot testing data.\n",
    "plt.plot(test.index, test.values, color = 'orange', label = 'test')\n",
    "\n",
    "# Plot predicted test values.\n",
    "plt.plot(predictions, color = 'green', label = 'prediction')\n",
    "\n",
    "# Plot predicted test values.\n",
    "plt.plot(future_forecasts, color = 'red', label = 'future forecasts')\n",
    "\n",
    "# Set label.\n",
    "plt.title(label = 'Forecasting New Mexico AQI 2000-01-31 ~ 2027-12-31', fontsize=24)\n",
    "\n",
    "# Resize tick marks.\n",
    "plt.xticks(fontsize=20)\n",
    "plt.yticks(fontsize=20)\n",
    "plt.legend(fontsize=20);"
   ]
  },
  {
   "cell_type": "code",
   "execution_count": null,
   "id": "e249b59a-c369-4db2-8eeb-e95062066a71",
   "metadata": {
    "scrolled": true
   },
   "outputs": [],
   "source": [
    "print(f'R2 Score: {r2_score(test, predictions)}')\n",
    "print(f'RMSE: {np.sqrt(mean_squared_error(test, predictions))}')\n",
    "print(f'Mean AQI: {test.mean()}')"
   ]
  },
  {
   "cell_type": "markdown",
   "id": "993464b2-c891-4d74-8471-a74a4b2d7312",
   "metadata": {},
   "source": [
    "### Florida"
   ]
  },
  {
   "cell_type": "code",
   "execution_count": null,
   "id": "bbdb9231-a448-42e9-ba61-7a78d19fa970",
   "metadata": {},
   "outputs": [],
   "source": [
    "aqi_florida = df_daily_state[df_daily_state['state_name'] == 'Florida']"
   ]
  },
  {
   "cell_type": "code",
   "execution_count": null,
   "id": "f8a97bc5-5952-44c4-9123-555ce7ce57f6",
   "metadata": {},
   "outputs": [],
   "source": [
    "aqi_florida.head()"
   ]
  },
  {
   "cell_type": "code",
   "execution_count": null,
   "id": "f7c21162-7eaf-4d82-b2ba-e336dbf389a0",
   "metadata": {},
   "outputs": [],
   "source": [
    "aqi_florida = aqi_florida.drop(['state_name'], axis=1)"
   ]
  },
  {
   "cell_type": "code",
   "execution_count": null,
   "id": "395981ae-648a-4bab-a267-d75d0bcbc54d",
   "metadata": {},
   "outputs": [],
   "source": [
    "# Set the index to be date\n",
    "aqi_florida.set_index('date', inplace=True)\n",
    "\n",
    "# resample by month\n",
    "aqi_florida_m = aqi_newMexico.resample('M').mean()"
   ]
  },
  {
   "cell_type": "code",
   "execution_count": null,
   "id": "ba8002c1-27bc-4c76-a190-43e797a0d3a8",
   "metadata": {
    "scrolled": true
   },
   "outputs": [],
   "source": [
    "aqi_florida_m"
   ]
  },
  {
   "cell_type": "code",
   "execution_count": null,
   "id": "bf7d9245-0e7e-4510-b739-f0a1d952ba66",
   "metadata": {
    "scrolled": true
   },
   "outputs": [],
   "source": [
    "# run auto arima to find the best parameter\n",
    "auto_arima(y=aqi_florida_m['aqi'],start_p=0,start_P=0,start_q=0,start_Q=0,seasonal=True, m=12).summary()\n",
    "\n",
    "# the best model is: SARIMAX(1, 0, 0)x(1, 0, 1, 12)"
   ]
  },
  {
   "cell_type": "code",
   "execution_count": null,
   "id": "32442fd3-515a-4fc2-9f2d-aabe282a2e68",
   "metadata": {},
   "outputs": [],
   "source": [
    "len(aqi_florida_m)"
   ]
  },
  {
   "cell_type": "code",
   "execution_count": null,
   "id": "7926a54a-36d5-4e0f-ab47-e0db49efe966",
   "metadata": {},
   "outputs": [],
   "source": [
    "#split data into train and test:\n",
    "train = aqi_florida_m[:220]\n",
    "test = aqi_florida_m[220:]"
   ]
  },
  {
   "cell_type": "code",
   "execution_count": null,
   "id": "580f869e-4ebb-4d23-a81c-6cfbc481b536",
   "metadata": {},
   "outputs": [],
   "source": [
    "# Fit SARIMA model with the best parameter: (1, 0, 0)x(1, 0, [1], 12)\n",
    "sarima = SARIMAX(train.astype(float).dropna() , order = (1, 0, 0), seasonal_order = (1, 0, 1, 12))\n",
    "\n",
    "# Fit SARIMA model.\n",
    "model = sarima.fit()"
   ]
  },
  {
   "cell_type": "code",
   "execution_count": null,
   "id": "a3bbcb2d-31ed-43fa-af64-66fb8307c53e",
   "metadata": {},
   "outputs": [],
   "source": [
    "print(model.summary())"
   ]
  },
  {
   "cell_type": "code",
   "execution_count": null,
   "id": "b9f96f5e-69da-4828-8f5d-1b1c60d03942",
   "metadata": {},
   "outputs": [],
   "source": [
    "# obtain predicted values\n",
    "predictions = model.predict(start=221, end=273, typ='levels').rename('Predictions')"
   ]
  },
  {
   "cell_type": "code",
   "execution_count": null,
   "id": "1deb2e7d-bebb-4a73-9709-35ce3cd07f59",
   "metadata": {},
   "outputs": [],
   "source": [
    "# obtain forecasted values\n",
    "future_forecasts = model.predict(start=273, end=333, typ='levels').rename('future_forecasts')"
   ]
  },
  {
   "cell_type": "code",
   "execution_count": null,
   "id": "727c37cd-e5df-4787-8f17-c040f7d43d00",
   "metadata": {
    "scrolled": true
   },
   "outputs": [],
   "source": [
    "train.shape, test.shape, predictions.shape"
   ]
  },
  {
   "cell_type": "code",
   "execution_count": null,
   "id": "09a680b8-bb7b-4418-a3d6-622f5b26ef04",
   "metadata": {},
   "outputs": [],
   "source": [
    "# plot predictions ad future forecasts\n",
    "\n",
    "# Set figure size.\n",
    "plt.figure(figsize=(20,10))\n",
    "\n",
    "# Plot training data.\n",
    "plt.plot(train.index, train.values, color = 'blue', label = 'train')\n",
    "\n",
    "# Plot testing data.\n",
    "plt.plot(test.index, test.values, color = 'orange', label = 'test')\n",
    "\n",
    "# Plot predicted test values.\n",
    "plt.plot(predictions, color = 'green', label = 'prediction')\n",
    "\n",
    "# Plot predicted test values.\n",
    "plt.plot(future_forecasts, color = 'red', label = 'future forecasts')\n",
    "\n",
    "# Set label.\n",
    "plt.title(label = 'Forecasting Florida AQI 2000-01-31 ~ 2027-12-31', fontsize=24)\n",
    "\n",
    "# Resize tick marks.\n",
    "plt.xticks(fontsize=20)\n",
    "plt.yticks(fontsize=20)\n",
    "plt.legend(fontsize=20);"
   ]
  },
  {
   "cell_type": "code",
   "execution_count": null,
   "id": "75268861-bd3f-4011-b4d7-c15d1e9834d6",
   "metadata": {
    "scrolled": true
   },
   "outputs": [],
   "source": [
    "print(f'R2 Score: {r2_score(test, predictions)}')\n",
    "print(f'RMSE: {np.sqrt(mean_squared_error(test, predictions))}')\n",
    "print(f'Mean AQI: {test.mean()}')"
   ]
  },
  {
   "cell_type": "markdown",
   "id": "5711ddaa-8ad2-4465-b1af-c831759bd530",
   "metadata": {},
   "source": [
    "### District of Columbia"
   ]
  },
  {
   "cell_type": "code",
   "execution_count": null,
   "id": "e2142f51-a77c-445d-bd57-99e5602f7771",
   "metadata": {},
   "outputs": [],
   "source": [
    "aqi_dc = df_daily_state[df_daily_state['state_name'] == 'District Of Columbia']"
   ]
  },
  {
   "cell_type": "code",
   "execution_count": null,
   "id": "7d8b152a-bd75-4992-8ce6-899e33176ab6",
   "metadata": {},
   "outputs": [],
   "source": [
    "aqi_dc.head()"
   ]
  },
  {
   "cell_type": "code",
   "execution_count": null,
   "id": "07431f52-03b7-4fbf-b416-ccf779a3afa6",
   "metadata": {},
   "outputs": [],
   "source": [
    "aqi_dc = aqi_dc.drop(['state_name'], axis=1)"
   ]
  },
  {
   "cell_type": "code",
   "execution_count": null,
   "id": "a52b84f1-abdc-4bd6-bdba-441cc6efc5cb",
   "metadata": {},
   "outputs": [],
   "source": [
    "# Set the index to be date\n",
    "aqi_dc.set_index('date', inplace=True)\n",
    "\n",
    "# resample by month\n",
    "aqi_dc_m = aqi_dc.resample('M').mean()"
   ]
  },
  {
   "cell_type": "code",
   "execution_count": null,
   "id": "ffc501db-a3cb-41fb-8f22-5dfb2a5dbed3",
   "metadata": {
    "scrolled": true
   },
   "outputs": [],
   "source": [
    "aqi_dc_m"
   ]
  },
  {
   "cell_type": "code",
   "execution_count": null,
   "id": "aaf45130-fc1a-4f28-ae1c-f42c819fe373",
   "metadata": {
    "scrolled": true
   },
   "outputs": [],
   "source": [
    "# run auto arima to find the best parameter\n",
    "auto_arima(y=aqi_dc_m['aqi'],start_p=0,start_P=0,start_q=0,start_Q=0,seasonal=True, m=12).summary()\n",
    "\n",
    "# the best model is: SARIMAX(1, 1, 1)x(1, 0, 1, 12)"
   ]
  },
  {
   "cell_type": "code",
   "execution_count": null,
   "id": "584968d7-b357-4f04-ab66-265dd72f93de",
   "metadata": {},
   "outputs": [],
   "source": [
    "len(aqi_dc_m)"
   ]
  },
  {
   "cell_type": "code",
   "execution_count": null,
   "id": "13df2831-2d34-4f5f-b871-10039c924f7a",
   "metadata": {},
   "outputs": [],
   "source": [
    "#split data into train and test:\n",
    "train = aqi_dc_m[:220]\n",
    "test = aqi_dc_m[220:]"
   ]
  },
  {
   "cell_type": "code",
   "execution_count": null,
   "id": "48aec60b-7184-4dc0-8b91-b09d97568aba",
   "metadata": {},
   "outputs": [],
   "source": [
    "# Fit SARIMA model with the best parameter: (1, 1, 1)x(1, 0, [1], 12)\n",
    "sarima = SARIMAX(train.astype(float).dropna() , order = (1, 1, 1), seasonal_order = (1, 0, 1, 12))\n",
    "\n",
    "# Fit SARIMA model.\n",
    "model = sarima.fit()"
   ]
  },
  {
   "cell_type": "code",
   "execution_count": null,
   "id": "5aa56c5c-be93-4441-935b-150feb6a6653",
   "metadata": {},
   "outputs": [],
   "source": [
    "print(model.summary())"
   ]
  },
  {
   "cell_type": "code",
   "execution_count": null,
   "id": "f606f8a0-69d8-4a6e-b8f0-890b3b67a027",
   "metadata": {},
   "outputs": [],
   "source": [
    "# obtain predicted values\n",
    "predictions = model.predict(start=220, end=272, typ='levels').rename('Predictions')"
   ]
  },
  {
   "cell_type": "code",
   "execution_count": null,
   "id": "2033f525-61e4-4c31-9e0f-1d7ce40041de",
   "metadata": {},
   "outputs": [],
   "source": [
    "# obtain forecasted values\n",
    "future_forecasts = model.predict(start=272, end=333, typ='levels').rename('future_forecasts')"
   ]
  },
  {
   "cell_type": "code",
   "execution_count": null,
   "id": "5d3a5829-85f3-4af2-b022-c986c75b8bfd",
   "metadata": {
    "scrolled": true
   },
   "outputs": [],
   "source": [
    "train.shape, test.shape, predictions.shape"
   ]
  },
  {
   "cell_type": "code",
   "execution_count": null,
   "id": "2b836969-e151-466b-b51d-8dd6b230a7c5",
   "metadata": {},
   "outputs": [],
   "source": [
    "# plot predictions ad future forecasts\n",
    "\n",
    "# Set figure size.\n",
    "plt.figure(figsize=(20,10))\n",
    "\n",
    "# Plot training data.\n",
    "plt.plot(train.index, train.values, color = 'blue', label = 'train')\n",
    "\n",
    "# Plot testing data.\n",
    "plt.plot(test.index, test.values, color = 'orange', label = 'test')\n",
    "\n",
    "# Plot predicted test values.\n",
    "plt.plot(predictions, color = 'green', label = 'prediction')\n",
    "\n",
    "# Plot predicted test values.\n",
    "plt.plot(future_forecasts, color = 'red', label = 'future forecasts')\n",
    "\n",
    "# Set label.\n",
    "plt.title(label = 'Forecasting District of Columbia AQI 2000-01-31 ~ 2027-12-31', fontsize=24)\n",
    "\n",
    "# Resize tick marks.\n",
    "plt.xticks(fontsize=20)\n",
    "plt.yticks(fontsize=20)\n",
    "plt.legend(fontsize=20);"
   ]
  },
  {
   "cell_type": "code",
   "execution_count": null,
   "id": "62b00785-42eb-48d9-a937-5f6f85d02d89",
   "metadata": {
    "scrolled": true
   },
   "outputs": [],
   "source": [
    "print(f'R2 Score: {r2_score(test, predictions)}')\n",
    "print(f'RMSE: {np.sqrt(mean_squared_error(test, predictions))}')\n",
    "print(f'Mean AQI: {test.mean()}')"
   ]
  },
  {
   "cell_type": "code",
   "execution_count": null,
   "id": "589f25d9-e71e-4222-b67b-2134a8c66546",
   "metadata": {},
   "outputs": [],
   "source": []
  },
  {
   "cell_type": "markdown",
   "id": "18a88ff8-c12c-46df-a0c7-c1b59422bd76",
   "metadata": {},
   "source": [
    "### AQI Percentage Change"
   ]
  },
  {
   "cell_type": "code",
   "execution_count": null,
   "id": "bff74838-1e46-414c-bc2e-8f5d18a4294a",
   "metadata": {},
   "outputs": [],
   "source": [
    "df_daily_state[df_daily_state['state_name'] == 'Alabama'].sort_values('aqi').head()"
   ]
  },
  {
   "cell_type": "code",
   "execution_count": null,
   "id": "83590fd0-9378-4985-8dea-7fbb4486d421",
   "metadata": {},
   "outputs": [],
   "source": [
    "df_perc = pd.DataFrame()"
   ]
  },
  {
   "cell_type": "code",
   "execution_count": null,
   "id": "4d6c0a0c-88df-46b3-adfa-6d7cf47a50ce",
   "metadata": {
    "scrolled": true
   },
   "outputs": [],
   "source": [
    "df_perc = df_daily_state.groupby('state_name')['aqi'].max().reset_index()"
   ]
  },
  {
   "cell_type": "code",
   "execution_count": null,
   "id": "0525ba6b-51c7-4a6b-aece-cd04d0d37530",
   "metadata": {
    "scrolled": true
   },
   "outputs": [],
   "source": [
    "df_perc.head(1)"
   ]
  },
  {
   "cell_type": "code",
   "execution_count": null,
   "id": "c0fdfa43-90f9-4fed-a351-c1e3042a7d52",
   "metadata": {},
   "outputs": [],
   "source": [
    "df_perc = df_perc.rename(columns={\"aqi\": \"max_aqi\"})"
   ]
  },
  {
   "cell_type": "code",
   "execution_count": null,
   "id": "23527a91-ed3d-4df8-aa4a-10179f29391f",
   "metadata": {},
   "outputs": [],
   "source": [
    "df_perc.set_index('state_name', inplace=True)"
   ]
  },
  {
   "cell_type": "code",
   "execution_count": null,
   "id": "fec931e0-98f0-428b-8582-27c3b2b676b7",
   "metadata": {},
   "outputs": [],
   "source": [
    "df_perc.head(1)"
   ]
  },
  {
   "cell_type": "code",
   "execution_count": null,
   "id": "84e49d99-c696-49b7-875f-4bb66c9662bd",
   "metadata": {},
   "outputs": [],
   "source": [
    "df_min = df_daily_state.groupby('state_name')['aqi'].min().reset_index()"
   ]
  },
  {
   "cell_type": "code",
   "execution_count": null,
   "id": "3628b7d4-24f6-4997-a9b1-df46e1d2c250",
   "metadata": {
    "scrolled": true
   },
   "outputs": [],
   "source": [
    "df_min = df_min.rename(columns={\"aqi\": \"min_aqi\"})"
   ]
  },
  {
   "cell_type": "code",
   "execution_count": null,
   "id": "52713954-190b-48db-9d7a-de2dcf1a6e2c",
   "metadata": {},
   "outputs": [],
   "source": [
    "df_min.head(1)"
   ]
  },
  {
   "cell_type": "code",
   "execution_count": null,
   "id": "775bff0d-30dc-4ca0-aff4-bee87c2ae00d",
   "metadata": {},
   "outputs": [],
   "source": [
    "df_min.set_index('state_name', inplace=True)"
   ]
  },
  {
   "cell_type": "code",
   "execution_count": null,
   "id": "e0731a40-b40b-4a72-a973-b182ce83fe8d",
   "metadata": {},
   "outputs": [],
   "source": [
    "df_min.head(1)"
   ]
  },
  {
   "cell_type": "code",
   "execution_count": null,
   "id": "2b70fbd3-7f66-43d2-8d3f-f00017f70b3d",
   "metadata": {
    "scrolled": true
   },
   "outputs": [],
   "source": [
    "df_p = pd.concat([df_perc, df_min], axis=1)"
   ]
  },
  {
   "cell_type": "code",
   "execution_count": null,
   "id": "2326e971-889f-4ac4-b3b5-1a0f13bc77a8",
   "metadata": {
    "scrolled": true
   },
   "outputs": [],
   "source": [
    "df_p.head(1)"
   ]
  },
  {
   "cell_type": "code",
   "execution_count": null,
   "id": "3a544b49-f9d8-4822-91f6-a4ea41f9f941",
   "metadata": {},
   "outputs": [],
   "source": [
    "df_p['percentage_change'] = df_p['max_aqi'] - df_p['min_aqi']"
   ]
  },
  {
   "cell_type": "code",
   "execution_count": null,
   "id": "a6b6a077-cabd-49b7-9a7d-36e82024ec7f",
   "metadata": {
    "scrolled": true
   },
   "outputs": [],
   "source": [
    "df_p.sort_values('percentage_change').head()"
   ]
  },
  {
   "cell_type": "code",
   "execution_count": null,
   "id": "f8017898-a31d-4d8b-a795-dd635ba10d52",
   "metadata": {
    "scrolled": true,
    "tags": []
   },
   "outputs": [],
   "source": [
    "df_p.sort_values('percentage_change').tail()"
   ]
  }
 ],
 "metadata": {
  "kernelspec": {
   "display_name": "Python 3 (ipykernel)",
   "language": "python",
   "name": "python3"
  },
  "language_info": {
   "codemirror_mode": {
    "name": "ipython",
    "version": 3
   },
   "file_extension": ".py",
   "mimetype": "text/x-python",
   "name": "python",
   "nbconvert_exporter": "python",
   "pygments_lexer": "ipython3",
   "version": "3.10.7"
  },
  "toc-showtags": false
 },
 "nbformat": 4,
 "nbformat_minor": 5
}
