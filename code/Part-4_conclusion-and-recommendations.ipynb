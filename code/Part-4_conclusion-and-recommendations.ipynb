{
 "cells": [
  {
   "cell_type": "markdown",
   "id": "c25a6f6a-543b-4815-8630-6a2b39f5aae4",
   "metadata": {},
   "source": [
    "# Project 4: EV Cars\n",
    "\n",
    "## Part IV - Conclusion and Recommendations\n",
    "\n",
    "Authors: Aichieh Lin, Bede Young, and Charles Ramey\n",
    "\n",
    "Date: 05/05/2023\n",
    "\n",
    "---"
   ]
  },
  {
   "cell_type": "markdown",
   "id": "a8be85ef-fede-4b57-8d0d-e37638cc4c24",
   "metadata": {},
   "source": [
    "#### Notebook Links\n",
    "\n",
    "Part I - Project Intro & Data Cleaning\n",
    "- [`Part-1_setup-and-cleaning.ipynb`](../code/Part-1_setup-and-cleaning.ipynb)\n",
    "\n",
    "Part II - Exploratory Data Analysis (EDA)\n",
    "- [`Part-2_eda.ipynb`](../code/Part-2_eda.ipynb)\n",
    "\n",
    "Part III - Modeling\n",
    "- [`Part-3_modeling.ipynb`](../code/Part-3_modeling.ipynb)"
   ]
  },
  {
   "cell_type": "markdown",
   "id": "7f00b346-58da-4d20-89c1-2e40cbb1b210",
   "metadata": {},
   "source": [
    "### Contents\n",
    "\n",
    "- [Conclusion and Recommendations](#Conclusion-and-Recommendations)\n",
    "- [Sources](#Sources)"
   ]
  },
  {
   "cell_type": "markdown",
   "id": "7d040d18-020a-441a-8af1-e810b64d0bd4",
   "metadata": {},
   "source": [
    "## Conclusion and Recommendations"
   ]
  },
  {
   "cell_type": "markdown",
   "id": "eecab744-fde6-4418-85ec-354ec6cd53d7",
   "metadata": {},
   "source": [
    "Lorem ipsum dolor sit amet, consectetur adipiscing elit, sed do eiusmod tempor incididunt ut labore et dolore magna aliqua. Ut enim ad minim veniam, quis nostrud exercitation ullamco laboris nisi ut aliquip ex ea commodo consequat. Duis aute irure dolor in reprehenderit in voluptate velit esse cillum dolore eu fugiat nulla pariatur. Excepteur sint occaecat cupidatat non proident, sunt in culpa qui officia deserunt mollit anim id est laborum.\n",
    "\n",
    "Lorem ipsum dolor sit amet, consectetur adipiscing elit, sed do eiusmod tempor incididunt ut labore et dolore magna aliqua. Ut enim ad minim veniam, quis nostrud exercitation ullamco laboris nisi ut aliquip ex ea commodo consequat. Duis aute irure dolor in reprehenderit in voluptate velit esse cillum dolore eu fugiat nulla pariatur. Excepteur sint occaecat cupidatat non proident, sunt in culpa qui officia deserunt mollit anim id est laborum.\n",
    "- Recommendation\n",
    "- Recommendation\n",
    "- Recommendation\n",
    "- Recommendation"
   ]
  },
  {
   "cell_type": "markdown",
   "id": "d82571c4-df28-48a1-ac04-9acd29eeefd0",
   "metadata": {
    "tags": []
   },
   "source": [
    "## Sources\n",
    "\n",
    "1. [source](source_url)\n",
    "2. "
   ]
  },
  {
   "cell_type": "code",
   "execution_count": null,
   "id": "33fde416-3b0e-4040-ba06-ff42d460353c",
   "metadata": {},
   "outputs": [],
   "source": []
  }
 ],
 "metadata": {
  "kernelspec": {
   "display_name": "Python 3 (ipykernel)",
   "language": "python",
   "name": "python3"
  },
  "language_info": {
   "codemirror_mode": {
    "name": "ipython",
    "version": 3
   },
   "file_extension": ".py",
   "mimetype": "text/x-python",
   "name": "python",
   "nbconvert_exporter": "python",
   "pygments_lexer": "ipython3",
   "version": "3.10.7"
  }
 },
 "nbformat": 4,
 "nbformat_minor": 5
}
